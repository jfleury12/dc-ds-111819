{
 "cells": [
  {
   "cell_type": "markdown",
   "metadata": {},
   "source": [
    "# Using APIs and JSON Data"
   ]
  },
  {
   "cell_type": "markdown",
   "metadata": {},
   "source": [
    "## Objectives\n",
    "You will be able to:\n",
    "* Access and manipulate data inside a JSON file\n",
    "* Pull data from an API and parse/transform the data"
   ]
  },
  {
   "cell_type": "markdown",
   "metadata": {},
   "source": [
    "## Agenda\n",
    "\n",
    "* Review JSON Schemas\n",
    "* Introduce APIs.\n",
    "* Walk through how to make an API request. \n",
    "* Practice making API requests and Parsing the data.\n"
   ]
  },
  {
   "cell_type": "markdown",
   "metadata": {},
   "source": [
    "### What is the difference between a JSON and a python dictionary?\n",
    "    - JSON is a string\n",
    "    - JSON typically more nested\n",
    "    - Javascript object notation\n",
    "    - When bringing into python -> dictionary\n",
    "    \n",
    "Usually, convert JSON to dictionary -> then convert into a pandas dataframe"
   ]
  },
  {
   "cell_type": "markdown",
   "metadata": {},
   "source": [
    "## Loading the JSON file\n",
    "\n",
    "As before, we begin by importing the json package, opening a file with python's built in function, and then loading that data in."
   ]
  },
  {
   "cell_type": "code",
   "execution_count": 2,
   "metadata": {},
   "outputs": [],
   "source": [
    "import json\n",
    "f = open('data/output.json') # comes in as a string"
   ]
  },
  {
   "cell_type": "code",
   "execution_count": 3,
   "metadata": {
    "collapsed": true
   },
   "outputs": [
    {
     "data": {
      "text/plain": [
       "'{\"albums\": {\"href\": \"https://api.spotify.com/v1/browse/new-releases?country=SE&offset=0&limit=20\", \"items\": [{\"album_type\": \"single\", \"artists\": [{\"external_urls\": {\"spotify\": \"https://open.spotify.com/artist/2RdwBSPQiwcmiDo9kixcl8\"}, \"href\": \"https://api.spotify.com/v1/artists/2RdwBSPQiwcmiDo9kixcl8\", \"id\": \"2RdwBSPQiwcmiDo9kixcl8\", \"name\": \"Pharrell Williams\", \"type\": \"artist\", \"uri\": \"spotify:artist:2RdwBSPQiwcmiDo9kixcl8\"}], \"available_markets\": [\"AD\", \"AR\", \"AT\", \"AU\", \"BE\", \"BG\", \"BO\", \"BR\", \"CA\", \"CH\", \"CL\", \"CO\", \"CR\", \"CY\", \"CZ\", \"DE\", \"DK\", \"DO\", \"EC\", \"EE\", \"ES\", \"FI\", \"FR\", \"GB\", \"GR\", \"GT\", \"HK\", \"HN\", \"HU\", \"ID\", \"IE\", \"IS\", \"IT\", \"JP\", \"LI\", \"LT\", \"LU\", \"LV\", \"MC\", \"MT\", \"MX\", \"MY\", \"NI\", \"NL\", \"NO\", \"NZ\", \"PA\", \"PE\", \"PH\", \"PL\", \"PT\", \"PY\", \"SE\", \"SG\", \"SK\", \"SV\", \"TR\", \"TW\", \"US\", \"UY\"], \"external_urls\": {\"spotify\": \"https://open.spotify.com/album/5ZX4m5aVSmWQ5iHAPQpT71\"}, \"href\": \"https://api.spotify.com/v1/albums/5ZX4m5aVSmWQ5iHAPQpT71\", \"id\": \"5ZX4m5aVSmWQ5iHAPQpT71\", \"images\": [{\"height\": 640, \"url\": \"https://i.scdn.co/image/e6b635ebe3ef4ba22492f5698a7b5d417f78b88a\", \"width\": 640}, {\"height\": 300, \"url\": \"https://i.scdn.co/image/92ae5b0fe64870c09004dd2e745a4fb1bf7de39d\", \"width\": 300}, {\"height\": 64, \"url\": \"https://i.scdn.co/image/8a7ab6fc2c9f678308ba0f694ecd5718dc6bc930\", \"width\": 64}], \"name\": \"Runnin\\'\", \"type\": \"album\", \"uri\": \"spotify:album:5ZX4m5aVSmWQ5iHAPQpT71\"}, {\"album_type\": \"single\", \"artists\": [{\"external_urls\": {\"spotify\": \"https://open.spotify.com/artist/3TVXtAsR1Inumwj472S9r4\"}, \"href\": \"https://api.spotify.com/v1/artists/3TVXtAsR1Inumwj472S9r4\", \"id\": \"3TVXtAsR1Inumwj472S9r4\", \"name\": \"Drake\", \"type\": \"artist\", \"uri\": \"spotify:artist:3TVXtAsR1Inumwj472S9r4\"}], \"available_markets\": [\"AD\", \"AR\", \"AT\", \"AU\", \"BE\", \"BG\", \"BO\", \"BR\", \"CH\", \"CL\", \"CO\", \"CR\", \"CY\", \"CZ\", \"DE\", \"DK\", \"DO\", \"EC\", \"EE\", \"ES\", \"FI\", \"FR\", \"GB\", \"GR\", \"GT\", \"HK\", \"HN\", \"HU\", \"ID\", \"IE\", \"IS\", \"IT\", \"JP\", \"LI\", \"LT\", \"LU\", \"LV\", \"MC\", \"MT\", \"MY\", \"NI\", \"NL\", \"NO\", \"NZ\", \"PA\", \"PE\", \"PH\", \"PL\", \"PT\", \"PY\", \"SE\", \"SG\", \"SK\", \"SV\", \"TR\", \"TW\", \"UY\"], \"external_urls\": {\"spotify\": \"https://open.spotify.com/album/0geTzdk2InlqIoB16fW9Nd\"}, \"href\": \"https://api.spotify.com/v1/albums/0geTzdk2InlqIoB16fW9Nd\", \"id\": \"0geTzdk2InlqIoB16fW9Nd\", \"images\": [{\"height\": 640, \"url\": \"https://i.scdn.co/image/d40e9c3d22bde2fbdb2ecc03cccd7a0e77f42e4c\", \"width\": 640}, {\"height\": 300, \"url\": \"https://i.scdn.co/image/dff06a3375f6d9b32ecb081eb9a60bbafecb5731\", \"width\": 300}, {\"height\": 64, \"url\": \"https://i.scdn.co/image/808a02bd7fc59b0652c9df9f68675edbffe07a79\", \"width\": 64}], \"name\": \"Sneakin\\\\u2019\", \"type\": \"album\", \"uri\": \"spotify:album:0geTzdk2InlqIoB16fW9Nd\"}], \"limit\": 20, \"next\": \"https://api.spotify.com/v1/browse/new-releases?country=SE&offset=20&limit=20\", \"offset\": 0, \"previous\": null, \"total\": 500}}'"
      ]
     },
     "execution_count": 3,
     "metadata": {},
     "output_type": "execute_result"
    }
   ],
   "source": [
    "f.read() # messy"
   ]
  },
  {
   "cell_type": "code",
   "execution_count": 4,
   "metadata": {
    "collapsed": true
   },
   "outputs": [
    {
     "ename": "JSONDecodeError",
     "evalue": "Expecting value: line 1 column 1 (char 0)",
     "output_type": "error",
     "traceback": [
      "\u001b[0;31m---------------------------------------------------------------------------\u001b[0m",
      "\u001b[0;31mJSONDecodeError\u001b[0m                           Traceback (most recent call last)",
      "\u001b[0;32m<ipython-input-4-70f8d25746d7>\u001b[0m in \u001b[0;36m<module>\u001b[0;34m\u001b[0m\n\u001b[0;32m----> 1\u001b[0;31m \u001b[0mdata\u001b[0m \u001b[0;34m=\u001b[0m \u001b[0mjson\u001b[0m\u001b[0;34m.\u001b[0m\u001b[0mload\u001b[0m\u001b[0;34m(\u001b[0m\u001b[0mf\u001b[0m\u001b[0;34m)\u001b[0m\u001b[0;34m\u001b[0m\u001b[0;34m\u001b[0m\u001b[0m\n\u001b[0m",
      "\u001b[0;32m~/opt/anaconda3/envs/learn-env/lib/python3.6/json/__init__.py\u001b[0m in \u001b[0;36mload\u001b[0;34m(fp, cls, object_hook, parse_float, parse_int, parse_constant, object_pairs_hook, **kw)\u001b[0m\n\u001b[1;32m    297\u001b[0m         \u001b[0mcls\u001b[0m\u001b[0;34m=\u001b[0m\u001b[0mcls\u001b[0m\u001b[0;34m,\u001b[0m \u001b[0mobject_hook\u001b[0m\u001b[0;34m=\u001b[0m\u001b[0mobject_hook\u001b[0m\u001b[0;34m,\u001b[0m\u001b[0;34m\u001b[0m\u001b[0;34m\u001b[0m\u001b[0m\n\u001b[1;32m    298\u001b[0m         \u001b[0mparse_float\u001b[0m\u001b[0;34m=\u001b[0m\u001b[0mparse_float\u001b[0m\u001b[0;34m,\u001b[0m \u001b[0mparse_int\u001b[0m\u001b[0;34m=\u001b[0m\u001b[0mparse_int\u001b[0m\u001b[0;34m,\u001b[0m\u001b[0;34m\u001b[0m\u001b[0;34m\u001b[0m\u001b[0m\n\u001b[0;32m--> 299\u001b[0;31m         parse_constant=parse_constant, object_pairs_hook=object_pairs_hook, **kw)\n\u001b[0m\u001b[1;32m    300\u001b[0m \u001b[0;34m\u001b[0m\u001b[0m\n\u001b[1;32m    301\u001b[0m \u001b[0;34m\u001b[0m\u001b[0m\n",
      "\u001b[0;32m~/opt/anaconda3/envs/learn-env/lib/python3.6/json/__init__.py\u001b[0m in \u001b[0;36mloads\u001b[0;34m(s, encoding, cls, object_hook, parse_float, parse_int, parse_constant, object_pairs_hook, **kw)\u001b[0m\n\u001b[1;32m    352\u001b[0m             \u001b[0mparse_int\u001b[0m \u001b[0;32mis\u001b[0m \u001b[0;32mNone\u001b[0m \u001b[0;32mand\u001b[0m \u001b[0mparse_float\u001b[0m \u001b[0;32mis\u001b[0m \u001b[0;32mNone\u001b[0m \u001b[0;32mand\u001b[0m\u001b[0;34m\u001b[0m\u001b[0;34m\u001b[0m\u001b[0m\n\u001b[1;32m    353\u001b[0m             parse_constant is None and object_pairs_hook is None and not kw):\n\u001b[0;32m--> 354\u001b[0;31m         \u001b[0;32mreturn\u001b[0m \u001b[0m_default_decoder\u001b[0m\u001b[0;34m.\u001b[0m\u001b[0mdecode\u001b[0m\u001b[0;34m(\u001b[0m\u001b[0ms\u001b[0m\u001b[0;34m)\u001b[0m\u001b[0;34m\u001b[0m\u001b[0;34m\u001b[0m\u001b[0m\n\u001b[0m\u001b[1;32m    355\u001b[0m     \u001b[0;32mif\u001b[0m \u001b[0mcls\u001b[0m \u001b[0;32mis\u001b[0m \u001b[0;32mNone\u001b[0m\u001b[0;34m:\u001b[0m\u001b[0;34m\u001b[0m\u001b[0;34m\u001b[0m\u001b[0m\n\u001b[1;32m    356\u001b[0m         \u001b[0mcls\u001b[0m \u001b[0;34m=\u001b[0m \u001b[0mJSONDecoder\u001b[0m\u001b[0;34m\u001b[0m\u001b[0;34m\u001b[0m\u001b[0m\n",
      "\u001b[0;32m~/opt/anaconda3/envs/learn-env/lib/python3.6/json/decoder.py\u001b[0m in \u001b[0;36mdecode\u001b[0;34m(self, s, _w)\u001b[0m\n\u001b[1;32m    337\u001b[0m \u001b[0;34m\u001b[0m\u001b[0m\n\u001b[1;32m    338\u001b[0m         \"\"\"\n\u001b[0;32m--> 339\u001b[0;31m         \u001b[0mobj\u001b[0m\u001b[0;34m,\u001b[0m \u001b[0mend\u001b[0m \u001b[0;34m=\u001b[0m \u001b[0mself\u001b[0m\u001b[0;34m.\u001b[0m\u001b[0mraw_decode\u001b[0m\u001b[0;34m(\u001b[0m\u001b[0ms\u001b[0m\u001b[0;34m,\u001b[0m \u001b[0midx\u001b[0m\u001b[0;34m=\u001b[0m\u001b[0m_w\u001b[0m\u001b[0;34m(\u001b[0m\u001b[0ms\u001b[0m\u001b[0;34m,\u001b[0m \u001b[0;36m0\u001b[0m\u001b[0;34m)\u001b[0m\u001b[0;34m.\u001b[0m\u001b[0mend\u001b[0m\u001b[0;34m(\u001b[0m\u001b[0;34m)\u001b[0m\u001b[0;34m)\u001b[0m\u001b[0;34m\u001b[0m\u001b[0;34m\u001b[0m\u001b[0m\n\u001b[0m\u001b[1;32m    340\u001b[0m         \u001b[0mend\u001b[0m \u001b[0;34m=\u001b[0m \u001b[0m_w\u001b[0m\u001b[0;34m(\u001b[0m\u001b[0ms\u001b[0m\u001b[0;34m,\u001b[0m \u001b[0mend\u001b[0m\u001b[0;34m)\u001b[0m\u001b[0;34m.\u001b[0m\u001b[0mend\u001b[0m\u001b[0;34m(\u001b[0m\u001b[0;34m)\u001b[0m\u001b[0;34m\u001b[0m\u001b[0;34m\u001b[0m\u001b[0m\n\u001b[1;32m    341\u001b[0m         \u001b[0;32mif\u001b[0m \u001b[0mend\u001b[0m \u001b[0;34m!=\u001b[0m \u001b[0mlen\u001b[0m\u001b[0;34m(\u001b[0m\u001b[0ms\u001b[0m\u001b[0;34m)\u001b[0m\u001b[0;34m:\u001b[0m\u001b[0;34m\u001b[0m\u001b[0;34m\u001b[0m\u001b[0m\n",
      "\u001b[0;32m~/opt/anaconda3/envs/learn-env/lib/python3.6/json/decoder.py\u001b[0m in \u001b[0;36mraw_decode\u001b[0;34m(self, s, idx)\u001b[0m\n\u001b[1;32m    355\u001b[0m             \u001b[0mobj\u001b[0m\u001b[0;34m,\u001b[0m \u001b[0mend\u001b[0m \u001b[0;34m=\u001b[0m \u001b[0mself\u001b[0m\u001b[0;34m.\u001b[0m\u001b[0mscan_once\u001b[0m\u001b[0;34m(\u001b[0m\u001b[0ms\u001b[0m\u001b[0;34m,\u001b[0m \u001b[0midx\u001b[0m\u001b[0;34m)\u001b[0m\u001b[0;34m\u001b[0m\u001b[0;34m\u001b[0m\u001b[0m\n\u001b[1;32m    356\u001b[0m         \u001b[0;32mexcept\u001b[0m \u001b[0mStopIteration\u001b[0m \u001b[0;32mas\u001b[0m \u001b[0merr\u001b[0m\u001b[0;34m:\u001b[0m\u001b[0;34m\u001b[0m\u001b[0;34m\u001b[0m\u001b[0m\n\u001b[0;32m--> 357\u001b[0;31m             \u001b[0;32mraise\u001b[0m \u001b[0mJSONDecodeError\u001b[0m\u001b[0;34m(\u001b[0m\u001b[0;34m\"Expecting value\"\u001b[0m\u001b[0;34m,\u001b[0m \u001b[0ms\u001b[0m\u001b[0;34m,\u001b[0m \u001b[0merr\u001b[0m\u001b[0;34m.\u001b[0m\u001b[0mvalue\u001b[0m\u001b[0;34m)\u001b[0m \u001b[0;32mfrom\u001b[0m \u001b[0;32mNone\u001b[0m\u001b[0;34m\u001b[0m\u001b[0;34m\u001b[0m\u001b[0m\n\u001b[0m\u001b[1;32m    358\u001b[0m         \u001b[0;32mreturn\u001b[0m \u001b[0mobj\u001b[0m\u001b[0;34m,\u001b[0m \u001b[0mend\u001b[0m\u001b[0;34m\u001b[0m\u001b[0;34m\u001b[0m\u001b[0m\n",
      "\u001b[0;31mJSONDecodeError\u001b[0m: Expecting value: line 1 column 1 (char 0)"
     ]
    }
   ],
   "source": [
    "data = json.load(f) # convert JSON string to dictionary"
   ]
  },
  {
   "cell_type": "code",
   "execution_count": 5,
   "metadata": {
    "collapsed": true
   },
   "outputs": [
    {
     "data": {
      "text/plain": [
       "{'albums': {'href': 'https://api.spotify.com/v1/browse/new-releases?country=SE&offset=0&limit=20',\n",
       "  'items': [{'album_type': 'single',\n",
       "    'artists': [{'external_urls': {'spotify': 'https://open.spotify.com/artist/2RdwBSPQiwcmiDo9kixcl8'},\n",
       "      'href': 'https://api.spotify.com/v1/artists/2RdwBSPQiwcmiDo9kixcl8',\n",
       "      'id': '2RdwBSPQiwcmiDo9kixcl8',\n",
       "      'name': 'Pharrell Williams',\n",
       "      'type': 'artist',\n",
       "      'uri': 'spotify:artist:2RdwBSPQiwcmiDo9kixcl8'}],\n",
       "    'available_markets': ['AD',\n",
       "     'AR',\n",
       "     'AT',\n",
       "     'AU',\n",
       "     'BE',\n",
       "     'BG',\n",
       "     'BO',\n",
       "     'BR',\n",
       "     'CA',\n",
       "     'CH',\n",
       "     'CL',\n",
       "     'CO',\n",
       "     'CR',\n",
       "     'CY',\n",
       "     'CZ',\n",
       "     'DE',\n",
       "     'DK',\n",
       "     'DO',\n",
       "     'EC',\n",
       "     'EE',\n",
       "     'ES',\n",
       "     'FI',\n",
       "     'FR',\n",
       "     'GB',\n",
       "     'GR',\n",
       "     'GT',\n",
       "     'HK',\n",
       "     'HN',\n",
       "     'HU',\n",
       "     'ID',\n",
       "     'IE',\n",
       "     'IS',\n",
       "     'IT',\n",
       "     'JP',\n",
       "     'LI',\n",
       "     'LT',\n",
       "     'LU',\n",
       "     'LV',\n",
       "     'MC',\n",
       "     'MT',\n",
       "     'MX',\n",
       "     'MY',\n",
       "     'NI',\n",
       "     'NL',\n",
       "     'NO',\n",
       "     'NZ',\n",
       "     'PA',\n",
       "     'PE',\n",
       "     'PH',\n",
       "     'PL',\n",
       "     'PT',\n",
       "     'PY',\n",
       "     'SE',\n",
       "     'SG',\n",
       "     'SK',\n",
       "     'SV',\n",
       "     'TR',\n",
       "     'TW',\n",
       "     'US',\n",
       "     'UY'],\n",
       "    'external_urls': {'spotify': 'https://open.spotify.com/album/5ZX4m5aVSmWQ5iHAPQpT71'},\n",
       "    'href': 'https://api.spotify.com/v1/albums/5ZX4m5aVSmWQ5iHAPQpT71',\n",
       "    'id': '5ZX4m5aVSmWQ5iHAPQpT71',\n",
       "    'images': [{'height': 640,\n",
       "      'url': 'https://i.scdn.co/image/e6b635ebe3ef4ba22492f5698a7b5d417f78b88a',\n",
       "      'width': 640},\n",
       "     {'height': 300,\n",
       "      'url': 'https://i.scdn.co/image/92ae5b0fe64870c09004dd2e745a4fb1bf7de39d',\n",
       "      'width': 300},\n",
       "     {'height': 64,\n",
       "      'url': 'https://i.scdn.co/image/8a7ab6fc2c9f678308ba0f694ecd5718dc6bc930',\n",
       "      'width': 64}],\n",
       "    'name': \"Runnin'\",\n",
       "    'type': 'album',\n",
       "    'uri': 'spotify:album:5ZX4m5aVSmWQ5iHAPQpT71'},\n",
       "   {'album_type': 'single',\n",
       "    'artists': [{'external_urls': {'spotify': 'https://open.spotify.com/artist/3TVXtAsR1Inumwj472S9r4'},\n",
       "      'href': 'https://api.spotify.com/v1/artists/3TVXtAsR1Inumwj472S9r4',\n",
       "      'id': '3TVXtAsR1Inumwj472S9r4',\n",
       "      'name': 'Drake',\n",
       "      'type': 'artist',\n",
       "      'uri': 'spotify:artist:3TVXtAsR1Inumwj472S9r4'}],\n",
       "    'available_markets': ['AD',\n",
       "     'AR',\n",
       "     'AT',\n",
       "     'AU',\n",
       "     'BE',\n",
       "     'BG',\n",
       "     'BO',\n",
       "     'BR',\n",
       "     'CH',\n",
       "     'CL',\n",
       "     'CO',\n",
       "     'CR',\n",
       "     'CY',\n",
       "     'CZ',\n",
       "     'DE',\n",
       "     'DK',\n",
       "     'DO',\n",
       "     'EC',\n",
       "     'EE',\n",
       "     'ES',\n",
       "     'FI',\n",
       "     'FR',\n",
       "     'GB',\n",
       "     'GR',\n",
       "     'GT',\n",
       "     'HK',\n",
       "     'HN',\n",
       "     'HU',\n",
       "     'ID',\n",
       "     'IE',\n",
       "     'IS',\n",
       "     'IT',\n",
       "     'JP',\n",
       "     'LI',\n",
       "     'LT',\n",
       "     'LU',\n",
       "     'LV',\n",
       "     'MC',\n",
       "     'MT',\n",
       "     'MY',\n",
       "     'NI',\n",
       "     'NL',\n",
       "     'NO',\n",
       "     'NZ',\n",
       "     'PA',\n",
       "     'PE',\n",
       "     'PH',\n",
       "     'PL',\n",
       "     'PT',\n",
       "     'PY',\n",
       "     'SE',\n",
       "     'SG',\n",
       "     'SK',\n",
       "     'SV',\n",
       "     'TR',\n",
       "     'TW',\n",
       "     'UY'],\n",
       "    'external_urls': {'spotify': 'https://open.spotify.com/album/0geTzdk2InlqIoB16fW9Nd'},\n",
       "    'href': 'https://api.spotify.com/v1/albums/0geTzdk2InlqIoB16fW9Nd',\n",
       "    'id': '0geTzdk2InlqIoB16fW9Nd',\n",
       "    'images': [{'height': 640,\n",
       "      'url': 'https://i.scdn.co/image/d40e9c3d22bde2fbdb2ecc03cccd7a0e77f42e4c',\n",
       "      'width': 640},\n",
       "     {'height': 300,\n",
       "      'url': 'https://i.scdn.co/image/dff06a3375f6d9b32ecb081eb9a60bbafecb5731',\n",
       "      'width': 300},\n",
       "     {'height': 64,\n",
       "      'url': 'https://i.scdn.co/image/808a02bd7fc59b0652c9df9f68675edbffe07a79',\n",
       "      'width': 64}],\n",
       "    'name': 'Sneakin’',\n",
       "    'type': 'album',\n",
       "    'uri': 'spotify:album:0geTzdk2InlqIoB16fW9Nd'}],\n",
       "  'limit': 20,\n",
       "  'next': 'https://api.spotify.com/v1/browse/new-releases?country=SE&offset=20&limit=20',\n",
       "  'offset': 0,\n",
       "  'previous': None,\n",
       "  'total': 500}}"
      ]
     },
     "execution_count": 5,
     "metadata": {},
     "output_type": "execute_result"
    }
   ],
   "source": [
    "data # cleaner\n",
    "# converted to a dictionary"
   ]
  },
  {
   "cell_type": "markdown",
   "metadata": {},
   "source": [
    "## Exploring JSON Schemas  \n",
    "\n",
    "Recall that JSON files have a nested structure. The most granular level of raw data will be individual numbers (float/int) and strings. These in turn will be stored in the equivalent of python lists and dictionaries. Because these can be combined, we'll start exploring by checking the type of our root object, and start mapping out the hierarchy of the json file."
   ]
  },
  {
   "cell_type": "code",
   "execution_count": 6,
   "metadata": {},
   "outputs": [
    {
     "data": {
      "text/plain": [
       "dict"
      ]
     },
     "execution_count": 6,
     "metadata": {},
     "output_type": "execute_result"
    }
   ],
   "source": [
    "type(data)"
   ]
  },
  {
   "cell_type": "code",
   "execution_count": 7,
   "metadata": {
    "collapsed": true
   },
   "outputs": [
    {
     "data": {
      "text/plain": [
       "{'albums': {'href': 'https://api.spotify.com/v1/browse/new-releases?country=SE&offset=0&limit=20',\n",
       "  'items': [{'album_type': 'single',\n",
       "    'artists': [{'external_urls': {'spotify': 'https://open.spotify.com/artist/2RdwBSPQiwcmiDo9kixcl8'},\n",
       "      'href': 'https://api.spotify.com/v1/artists/2RdwBSPQiwcmiDo9kixcl8',\n",
       "      'id': '2RdwBSPQiwcmiDo9kixcl8',\n",
       "      'name': 'Pharrell Williams',\n",
       "      'type': 'artist',\n",
       "      'uri': 'spotify:artist:2RdwBSPQiwcmiDo9kixcl8'}],\n",
       "    'available_markets': ['AD',\n",
       "     'AR',\n",
       "     'AT',\n",
       "     'AU',\n",
       "     'BE',\n",
       "     'BG',\n",
       "     'BO',\n",
       "     'BR',\n",
       "     'CA',\n",
       "     'CH',\n",
       "     'CL',\n",
       "     'CO',\n",
       "     'CR',\n",
       "     'CY',\n",
       "     'CZ',\n",
       "     'DE',\n",
       "     'DK',\n",
       "     'DO',\n",
       "     'EC',\n",
       "     'EE',\n",
       "     'ES',\n",
       "     'FI',\n",
       "     'FR',\n",
       "     'GB',\n",
       "     'GR',\n",
       "     'GT',\n",
       "     'HK',\n",
       "     'HN',\n",
       "     'HU',\n",
       "     'ID',\n",
       "     'IE',\n",
       "     'IS',\n",
       "     'IT',\n",
       "     'JP',\n",
       "     'LI',\n",
       "     'LT',\n",
       "     'LU',\n",
       "     'LV',\n",
       "     'MC',\n",
       "     'MT',\n",
       "     'MX',\n",
       "     'MY',\n",
       "     'NI',\n",
       "     'NL',\n",
       "     'NO',\n",
       "     'NZ',\n",
       "     'PA',\n",
       "     'PE',\n",
       "     'PH',\n",
       "     'PL',\n",
       "     'PT',\n",
       "     'PY',\n",
       "     'SE',\n",
       "     'SG',\n",
       "     'SK',\n",
       "     'SV',\n",
       "     'TR',\n",
       "     'TW',\n",
       "     'US',\n",
       "     'UY'],\n",
       "    'external_urls': {'spotify': 'https://open.spotify.com/album/5ZX4m5aVSmWQ5iHAPQpT71'},\n",
       "    'href': 'https://api.spotify.com/v1/albums/5ZX4m5aVSmWQ5iHAPQpT71',\n",
       "    'id': '5ZX4m5aVSmWQ5iHAPQpT71',\n",
       "    'images': [{'height': 640,\n",
       "      'url': 'https://i.scdn.co/image/e6b635ebe3ef4ba22492f5698a7b5d417f78b88a',\n",
       "      'width': 640},\n",
       "     {'height': 300,\n",
       "      'url': 'https://i.scdn.co/image/92ae5b0fe64870c09004dd2e745a4fb1bf7de39d',\n",
       "      'width': 300},\n",
       "     {'height': 64,\n",
       "      'url': 'https://i.scdn.co/image/8a7ab6fc2c9f678308ba0f694ecd5718dc6bc930',\n",
       "      'width': 64}],\n",
       "    'name': \"Runnin'\",\n",
       "    'type': 'album',\n",
       "    'uri': 'spotify:album:5ZX4m5aVSmWQ5iHAPQpT71'},\n",
       "   {'album_type': 'single',\n",
       "    'artists': [{'external_urls': {'spotify': 'https://open.spotify.com/artist/3TVXtAsR1Inumwj472S9r4'},\n",
       "      'href': 'https://api.spotify.com/v1/artists/3TVXtAsR1Inumwj472S9r4',\n",
       "      'id': '3TVXtAsR1Inumwj472S9r4',\n",
       "      'name': 'Drake',\n",
       "      'type': 'artist',\n",
       "      'uri': 'spotify:artist:3TVXtAsR1Inumwj472S9r4'}],\n",
       "    'available_markets': ['AD',\n",
       "     'AR',\n",
       "     'AT',\n",
       "     'AU',\n",
       "     'BE',\n",
       "     'BG',\n",
       "     'BO',\n",
       "     'BR',\n",
       "     'CH',\n",
       "     'CL',\n",
       "     'CO',\n",
       "     'CR',\n",
       "     'CY',\n",
       "     'CZ',\n",
       "     'DE',\n",
       "     'DK',\n",
       "     'DO',\n",
       "     'EC',\n",
       "     'EE',\n",
       "     'ES',\n",
       "     'FI',\n",
       "     'FR',\n",
       "     'GB',\n",
       "     'GR',\n",
       "     'GT',\n",
       "     'HK',\n",
       "     'HN',\n",
       "     'HU',\n",
       "     'ID',\n",
       "     'IE',\n",
       "     'IS',\n",
       "     'IT',\n",
       "     'JP',\n",
       "     'LI',\n",
       "     'LT',\n",
       "     'LU',\n",
       "     'LV',\n",
       "     'MC',\n",
       "     'MT',\n",
       "     'MY',\n",
       "     'NI',\n",
       "     'NL',\n",
       "     'NO',\n",
       "     'NZ',\n",
       "     'PA',\n",
       "     'PE',\n",
       "     'PH',\n",
       "     'PL',\n",
       "     'PT',\n",
       "     'PY',\n",
       "     'SE',\n",
       "     'SG',\n",
       "     'SK',\n",
       "     'SV',\n",
       "     'TR',\n",
       "     'TW',\n",
       "     'UY'],\n",
       "    'external_urls': {'spotify': 'https://open.spotify.com/album/0geTzdk2InlqIoB16fW9Nd'},\n",
       "    'href': 'https://api.spotify.com/v1/albums/0geTzdk2InlqIoB16fW9Nd',\n",
       "    'id': '0geTzdk2InlqIoB16fW9Nd',\n",
       "    'images': [{'height': 640,\n",
       "      'url': 'https://i.scdn.co/image/d40e9c3d22bde2fbdb2ecc03cccd7a0e77f42e4c',\n",
       "      'width': 640},\n",
       "     {'height': 300,\n",
       "      'url': 'https://i.scdn.co/image/dff06a3375f6d9b32ecb081eb9a60bbafecb5731',\n",
       "      'width': 300},\n",
       "     {'height': 64,\n",
       "      'url': 'https://i.scdn.co/image/808a02bd7fc59b0652c9df9f68675edbffe07a79',\n",
       "      'width': 64}],\n",
       "    'name': 'Sneakin’',\n",
       "    'type': 'album',\n",
       "    'uri': 'spotify:album:0geTzdk2InlqIoB16fW9Nd'}],\n",
       "  'limit': 20,\n",
       "  'next': 'https://api.spotify.com/v1/browse/new-releases?country=SE&offset=20&limit=20',\n",
       "  'offset': 0,\n",
       "  'previous': None,\n",
       "  'total': 500}}"
      ]
     },
     "execution_count": 7,
     "metadata": {},
     "output_type": "execute_result"
    }
   ],
   "source": [
    "data"
   ]
  },
  {
   "cell_type": "markdown",
   "metadata": {},
   "source": [
    "As you can see, in this case, the first level of the hierarchy is a dictionary. Let's explore what keys are within this:"
   ]
  },
  {
   "cell_type": "code",
   "execution_count": 8,
   "metadata": {},
   "outputs": [
    {
     "data": {
      "text/plain": [
       "dict_keys(['albums'])"
      ]
     },
     "execution_count": 8,
     "metadata": {},
     "output_type": "execute_result"
    }
   ],
   "source": [
    "data.keys() # 'albums' is a dictionary in a dict"
   ]
  },
  {
   "cell_type": "markdown",
   "metadata": {},
   "source": [
    "In this case, there is only a single key, 'albums', so we'll continue on down the pathway exploring and mapping out the hierarchy. Once again, let's start by checking the type of this nested data structure."
   ]
  },
  {
   "cell_type": "code",
   "execution_count": 9,
   "metadata": {},
   "outputs": [
    {
     "data": {
      "text/plain": [
       "dict"
      ]
     },
     "execution_count": 9,
     "metadata": {},
     "output_type": "execute_result"
    }
   ],
   "source": [
    "type(data['albums'])"
   ]
  },
  {
   "cell_type": "markdown",
   "metadata": {},
   "source": [
    "Another dictionary! So thus far, we have a dictionary within a dictionary. Once again, let's investigate what's within this dictionary (JSON calls the equivalent of Python dictionaries Objects.)"
   ]
  },
  {
   "cell_type": "code",
   "execution_count": 10,
   "metadata": {},
   "outputs": [
    {
     "data": {
      "text/plain": [
       "dict_keys(['href', 'items', 'limit', 'next', 'offset', 'previous', 'total'])"
      ]
     },
     "execution_count": 10,
     "metadata": {},
     "output_type": "execute_result"
    }
   ],
   "source": [
    "data['albums'].keys()"
   ]
  },
  {
   "cell_type": "markdown",
   "metadata": {},
   "source": [
    "At this point, things are starting to look something like this: \n",
    "<img src=\"images\\json_diagram1.JPG\" width=550>"
   ]
  },
  {
   "cell_type": "markdown",
   "metadata": {},
   "source": [
    "At this point, if we were to continue checking individual data types, we have a lot to go through. To simplify this, let's use a for loop:"
   ]
  },
  {
   "cell_type": "code",
   "execution_count": 11,
   "metadata": {},
   "outputs": [
    {
     "name": "stdout",
     "output_type": "stream",
     "text": [
      "href <class 'str'>\n",
      "items <class 'list'>\n",
      "limit <class 'int'>\n",
      "next <class 'str'>\n",
      "offset <class 'int'>\n",
      "previous <class 'NoneType'>\n",
      "total <class 'int'>\n"
     ]
    }
   ],
   "source": [
    "# checking the type of all keys in 'albums' dict\n",
    "for key in data['albums'].keys():\n",
    "    print(key, type(data['albums'][key]))"
   ]
  },
  {
   "cell_type": "markdown",
   "metadata": {},
   "source": [
    "Adding this to our diagram we now have something like this:\n",
    "<img src=\"images\\json_diagram2.JPG\" width=550>"
   ]
  },
  {
   "cell_type": "markdown",
   "metadata": {},
   "source": [
    "Normally, you may not draw out the full diagram as done here, but its a useful picture to have in mind, and in complex schemas, can be useful to map out. At this point, you also probably have a good idea of the general structure of the json file. However, there is still the list of items, which we could investigate further:"
   ]
  },
  {
   "cell_type": "markdown",
   "metadata": {},
   "source": [
    "## What is an API?"
   ]
  },
  {
   "cell_type": "markdown",
   "metadata": {},
   "source": [
    "**Application Program Interfaces**, or APIs, are commonly used to retrieve data from remote websites. Sites like Reddit, Twitter, and Facebook all offer certain data through their APIs. \n",
    "In the context of our usage, it means making calls to retrieve data from a website.\n",
    "\n",
    "To use an API, you make a request to a remote web server, and retrieve the data you need."
   ]
  },
  {
   "cell_type": "markdown",
   "metadata": {},
   "source": [
    "Python with two built-in modules, `urllib` and `urllib2` to handle these requests but these could be very confusing  and the documentation is not clear.\n",
    "\n",
    "To make these things simpler, one easy-to-use third-party library, known as` Requests`, is what most developers prefer to use it instead or urllib/urllib2. With this library, you can access content like web page headers, form data, files, and parameters via simple Python commands. It also allows you to access the response data in a simple way."
   ]
  },
  {
   "cell_type": "markdown",
   "metadata": {},
   "source": [
    "'Requests' library easier than urllib and urllib2"
   ]
  },
  {
   "cell_type": "markdown",
   "metadata": {},
   "source": [
    "Using APIs is better and easier than webscraping. A lot of websites are formatted differently and can be a huge pain. Webscraping involves constantly loading, running a website. "
   ]
  },
  {
   "cell_type": "markdown",
   "metadata": {},
   "source": [
    "![](images\\logo.png)"
   ]
  },
  {
   "cell_type": "markdown",
   "metadata": {},
   "source": [
    "Below is how you would install and import the requests library before making any requests. \n",
    "```python\n",
    "# Uncomment and install requests if you dont have it already\n",
    "# !pip install requests\n",
    "\n",
    "# Import requests to working environment\n",
    "import requests\n",
    "```"
   ]
  },
  {
   "cell_type": "code",
   "execution_count": 12,
   "metadata": {},
   "outputs": [],
   "source": [
    "import requests\n"
   ]
  },
  {
   "cell_type": "markdown",
   "metadata": {},
   "source": [
    "\n",
    "## The `.get()` Method\n",
    "\n",
    "Now we have requests library ready in our working environment, we can start making some requests using the `.get()` method as shown below:\n",
    "\n",
    "\n",
    "We can use a simple GET request to retrieve information from the OpenNotify API.\n",
    "\n",
    "\n",
    "\n",
    "\n",
    "OpenNotify has several API endpoints. An endpoint is a server route that is used to retrieve different data from the API. For example, the /comments endpoint on the Reddit API might retrieve information about comments, whereas the /users endpoint might retrieve data about users. To access them, you would add the endpoint to the base url of the API.\n",
    "\n"
   ]
  },
  {
   "cell_type": "code",
   "execution_count": 13,
   "metadata": {},
   "outputs": [
    {
     "name": "stdout",
     "output_type": "stream",
     "text": [
      "200\n"
     ]
    }
   ],
   "source": [
    "# Make a get request to get the latest position of the international space station from the opennotify api.\n",
    "response = requests.get(\"http://api.open-notify.org/iss-now.json\")\n",
    "# Print the status code of the response.\n",
    "print(response.status_code)\n",
    "# 200 means it works. 300 + means theres an issue."
   ]
  },
  {
   "cell_type": "markdown",
   "metadata": {},
   "source": [
    "\n",
    "GET is by far the most used HTTP method. We can use GET request to retrieve data from any destination. \n",
    "GET is by far the most used HTTP method. We can use GET request to retrieve data from any destination. \n",
    "\n",
    "## Status Codes\n",
    "The request we make may not be always successful. The best way is to check the status code which gets returned with the response. Here is how you would do this. \n"
   ]
  },
  {
   "cell_type": "code",
   "execution_count": 14,
   "metadata": {},
   "outputs": [
    {
     "data": {
      "text/plain": [
       "True"
      ]
     },
     "execution_count": 14,
     "metadata": {},
     "output_type": "execute_result"
    }
   ],
   "source": [
    "# Code here \n",
    "response.status_code == requests.codes.ok"
   ]
  },
  {
   "cell_type": "markdown",
   "metadata": {},
   "source": [
    "So this is a good check to see if our request was successful. Depending on the status of the web server, the access rights of the clients and availibility of requested information. A web server may return a number of status codes within the response. Wikipedia has an exhaustive details on all these codes. [Check them out here](https://en.wikipedia.org/wiki/List_of_HTTP_status_codes)"
   ]
  },
  {
   "cell_type": "markdown",
   "metadata": {},
   "source": [
    "### Common status codes\n",
    "\n",
    "* 200 — everything went okay, and the result has been returned (if any)\n",
    "* 301 — the server is redirecting you to a different endpoint. This can happen when a company switches domain names, or an endpoint name is changed.\n",
    "* 401 — the server thinks you’re not authenticated. This happens when you don’t send the right credentials to access an API (we’ll talk about authentication in a later post).\n",
    "* 400 — the server thinks you made a bad request. This can happen when you don’t send along the right data, among other things.\n",
    "* 403 — the resource you’re trying to access is forbidden — you don’t have the right permissions to see it.\n",
    "* 404 — the resource you tried to access wasn’t found on the server."
   ]
  },
  {
   "cell_type": "markdown",
   "metadata": {},
   "source": [
    "### Hitting the right endpoint\n",
    "iss-pass wasn’t a valid endpoint, so we got a 404 status code in response. We forgot to add `.json` at the end, as the API documentation states.\n",
    "\n",
    "We’ll now make a GET request to http://api.open-notify.org/iss-pass.json."
   ]
  },
  {
   "cell_type": "markdown",
   "metadata": {},
   "source": [
    "\n",
    "## Response Contents\n",
    "Once we know that our request was successful and we have a valid response, we can check the returned information using `.text` property of the response object. \n",
    "```python\n",
    "print (resp.text)\n",
    "```"
   ]
  },
  {
   "cell_type": "code",
   "execution_count": 15,
   "metadata": {},
   "outputs": [
    {
     "data": {
      "text/plain": [
       "<Response [200]>"
      ]
     },
     "execution_count": 15,
     "metadata": {},
     "output_type": "execute_result"
    }
   ],
   "source": [
    "response"
   ]
  },
  {
   "cell_type": "code",
   "execution_count": 16,
   "metadata": {},
   "outputs": [
    {
     "name": "stdout",
     "output_type": "stream",
     "text": [
      "400\n"
     ]
    }
   ],
   "source": [
    "response = requests.get(\"http://api.open-notify.org/iss-pass.json\")\n",
    "print(response.status_code)\n"
   ]
  },
  {
   "cell_type": "markdown",
   "metadata": {},
   "source": [
    "can navigate to above URL to see same response message below"
   ]
  },
  {
   "cell_type": "code",
   "execution_count": 17,
   "metadata": {},
   "outputs": [
    {
     "name": "stdout",
     "output_type": "stream",
     "text": [
      "{\n",
      "  \"message\": \"failure\", \n",
      "  \"reason\": \"Latitude must be specified\"\n",
      "}\n",
      "\n"
     ]
    }
   ],
   "source": [
    "# Code here \n",
    "print(response.text)"
   ]
  },
  {
   "cell_type": "markdown",
   "metadata": {},
   "source": [
    "### Query parameters - specific things you are asking the API for (lat, long)\n",
    "\n",
    "If you look at the documentation for the OpenNotify API, we see that the ISS Pass endpoint requires two parameters.\n",
    "\n",
    "We can do this by adding an optional keyword argument, params, to our request. In this case, there are two parameters we need to pass:\n",
    "\n",
    "* lat — The latitude of the location we want.\n",
    "* lon — The longitude of the location we want.\n",
    "We can make a dictionary with these parameters, and then pass them into the requests.get function.\n",
    "\n",
    "We can also do the same thing directly by adding the query parameters to the url, like this: http://api.open-notify.org/iss-pass.json?lat=40.71&lon=-74.\n",
    "\n",
    "It’s almost always preferable to setup the parameters as a dictionary, because requests takes care of some things that come up, like properly formatting the query parameters.\n",
    "\n",
    "We’ll make a request using the coordinates of New York City, and see what response we get."
   ]
  },
  {
   "cell_type": "code",
   "execution_count": 18,
   "metadata": {},
   "outputs": [
    {
     "name": "stdout",
     "output_type": "stream",
     "text": [
      "b'{\\n  \"message\": \"success\", \\n  \"request\": {\\n    \"altitude\": 100, \\n    \"datetime\": 1575908228, \\n    \"latitude\": 40.71, \\n    \"longitude\": -74.0, \\n    \"passes\": 5\\n  }, \\n  \"response\": [\\n    {\\n      \"duration\": 646, \\n      \"risetime\": 1575908425\\n    }, \\n    {\\n      \"duration\": 609, \\n      \"risetime\": 1575914263\\n    }, \\n    {\\n      \"duration\": 556, \\n      \"risetime\": 1575920150\\n    }, \\n    {\\n      \"duration\": 604, \\n      \"risetime\": 1575925989\\n    }, \\n    {\\n      \"duration\": 653, \\n      \"risetime\": 1575931789\\n    }\\n  ]\\n}\\n'\n",
      "b'{\\n  \"message\": \"success\", \\n  \"request\": {\\n    \"altitude\": 100, \\n    \"datetime\": 1575908228, \\n    \"latitude\": 40.71, \\n    \"longitude\": -74.0, \\n    \"passes\": 5\\n  }, \\n  \"response\": [\\n    {\\n      \"duration\": 646, \\n      \"risetime\": 1575908425\\n    }, \\n    {\\n      \"duration\": 609, \\n      \"risetime\": 1575914263\\n    }, \\n    {\\n      \"duration\": 556, \\n      \"risetime\": 1575920150\\n    }, \\n    {\\n      \"duration\": 604, \\n      \"risetime\": 1575925989\\n    }, \\n    {\\n      \"duration\": 653, \\n      \"risetime\": 1575931789\\n    }\\n  ]\\n}\\n'\n"
     ]
    }
   ],
   "source": [
    "# Set up the parameters we want to pass to the API.\n",
    "# This is the latitude and longitude of New York City.\n",
    "parameters = {\"lat\": 40.71, \"lon\": -74}\n",
    "\n",
    "\n",
    "# Make a get request with the parameters.\n",
    "response = requests.get(\"http://api.open-notify.org/iss-pass.json\", params=parameters)\n",
    "response = requests.get(\"http://api.open-notify.org/iss-pass.json?lat=40.71&lon=-74\") # this also works\n",
    "\n",
    "# Print the content of the response (the data the server returned)\n",
    "print(response.content)\n",
    "# This gets the same data as the command aboveresponse = requests.get(\"http://api.open-notify.org/iss-pass.json?lat=40.71&lon=-74\")\n",
    "print(response.content)"
   ]
  },
  {
   "cell_type": "code",
   "execution_count": 20,
   "metadata": {},
   "outputs": [
    {
     "data": {
      "text/plain": [
       "{'message': 'success',\n",
       " 'request': {'altitude': 100,\n",
       "  'datetime': 1575908228,\n",
       "  'latitude': 40.71,\n",
       "  'longitude': -74.0,\n",
       "  'passes': 5},\n",
       " 'response': [{'duration': 646, 'risetime': 1575908425},\n",
       "  {'duration': 609, 'risetime': 1575914263},\n",
       "  {'duration': 556, 'risetime': 1575920150},\n",
       "  {'duration': 604, 'risetime': 1575925989},\n",
       "  {'duration': 653, 'risetime': 1575931789}]}"
      ]
     },
     "execution_count": 20,
     "metadata": {},
     "output_type": "execute_result"
    }
   ],
   "source": [
    "response.json() # converts to dictionary"
   ]
  },
  {
   "cell_type": "markdown",
   "metadata": {},
   "source": [
    "So this returns a lot of information which by default is not really human understandable due to data encoding, HTML tags and other styling information that only a web browser can truly translate. In later lessons we shall look at how we can use ** Regular Exprerssions**  to clean this information and extract the required bits and pieces for analysis. \n",
    "\n",
    "## Response Headers\n",
    "The response of an HTTP request can contain many headers that holds different bits of information. We can use `.header` property of the response object to access the header information as shown below:\n",
    "\n",
    "Also used for putting in authentication information\n"
   ]
  },
  {
   "cell_type": "code",
   "execution_count": 21,
   "metadata": {},
   "outputs": [
    {
     "data": {
      "text/plain": [
       "{'Server': 'nginx/1.10.3',\n",
       " 'Date': 'Mon, 09 Dec 2019 16:57:13 GMT',\n",
       " 'Content-Type': 'application/json',\n",
       " 'Content-Length': '519',\n",
       " 'Connection': 'keep-alive',\n",
       " 'Via': '1.1 vegur'}"
      ]
     },
     "execution_count": 21,
     "metadata": {},
     "output_type": "execute_result"
    }
   ],
   "source": [
    "# Code here \n",
    "dict(response.headers)"
   ]
  },
  {
   "cell_type": "markdown",
   "metadata": {},
   "source": [
    "The content of the headers is our required element. You can see the key-value pairs holding various pieces of  information about the resource and request. Let's try to parse some of these values using the requests library:\n",
    "\n",
    "```python\n",
    "print(resp.headers['Content-Length'])  # length of the response\n",
    "print(resp.headers['Date'])  # Date the response was sent\n",
    "print(resp.headers['server'])   # Server type (google web service - GWS)\n",
    "```"
   ]
  },
  {
   "cell_type": "markdown",
   "metadata": {},
   "source": [
    "\n",
    "## HTTP POST method \n",
    "\n",
    "Sometimes we need to send one or more files simultaneously to the server. For example, if a user is submitting a form and the form includes different fields for uploading files, like user profile picture, user resume, etc. Requests can handle multiple files on a single request. This can be achieved by putting the files to a list of tuples in the form (`field_name, file_info)`.\n",
    "\n",
    "\n",
    "```python\n",
    "import requests\n",
    "\n",
    "url = 'http://httpbin.org/post'  \n",
    "file_list = [  \n",
    "    ('image', ('fi.png', open('fi.png', 'rb'), 'image/png')),\n",
    "    ('image', ('fi2.jpeg', open('fi2.jpeg', 'rb'), 'image/png'))\n",
    "]\n",
    "\n",
    "r = requests.post(url, files=file_list)  \n",
    "print(r.text)  \n",
    "```"
   ]
  },
  {
   "cell_type": "markdown",
   "metadata": {},
   "source": [
    "![](quota.png)"
   ]
  },
  {
   "cell_type": "markdown",
   "metadata": {},
   "source": [
    "\n",
    "## Generating Access Tokens\n",
    "\n",
    "As discussed, in order to use many APIs, one needs to use OAuth which requires an access token. As such, our first step will be to generate this login information so that we can start making some requests.  \n",
    "\n",
    "With that, lets go grab an access token from an API site and make some API calls!\n",
    "Point your browser over to this [yelp page](https://www.yelp.com/developers/v3/manage_app) and start creating an app in order to obtain and api access token:"
   ]
  },
  {
   "cell_type": "markdown",
   "metadata": {},
   "source": [
    "\n",
    "![](./images/yelp_app.png)"
   ]
  },
  {
   "cell_type": "markdown",
   "metadata": {},
   "source": [
    "You can either sign in to an existing Yelp account, or create a new one, if needed.\n",
    "\n",
    "On the page you see above, simply fill out some sample information such as \"Flatiron Edu API Example\" for the app name, or whatever floats your boat. Afterwards, you should be presented with an API key that you can use to make requests!\n",
    "\n",
    "With that, it's time to start making some api calls!"
   ]
  },
  {
   "cell_type": "code",
   "execution_count": 22,
   "metadata": {},
   "outputs": [],
   "source": [
    "#As a general rule of thumb, don't store passwords in a main file like this!\n",
    "#Instead, you would normally store those passwords under a sub file like passwords.py which you would then import.\n",
    "#Or even better, as an environment variable that could then be imported!\n",
    "#For now, we'll simply hardcode them into our notebook for simplicity.\n",
    "client_id = 'bVX1Jsfp4dkIOqw5HOVplg' #Your client ID goes here (as a string)\n",
    "api_key = 'RTzp-q-TgkJW_NFQogubFvZNRDziXyoR38VbtZMWibDI-FlvB25OE7GmafFEqhTL8_Bk2HlcX24-hRWLMP7Nc6WHO_VXMXldpPBjP0LoPv5EFFELMSI2oll8njhbXHYx' #Your api key goes here (as a string)"
   ]
  },
  {
   "cell_type": "markdown",
   "metadata": {},
   "source": [
    "## An Example Request with OAuth <a id=\"oauth_request\"></a>\n",
    "https://www.yelp.com/developers/documentation/v3/get_started\n",
    "\n",
    "In the next lesson, we'll further dissect how to read and translate online documentation like the link here. For now, let's simply look at an example request and dissect it into its consituent parts:"
   ]
  },
  {
   "cell_type": "code",
   "execution_count": 23,
   "metadata": {
    "collapsed": true
   },
   "outputs": [
    {
     "name": "stdout",
     "output_type": "stream",
     "text": [
      "<Response [200]>\n",
      "<class 'str'>\n",
      "{\"businesses\": [{\"id\": \"jeWIYbgBho9vBDhc5S1xvg\", \"alias\": \"chanos-cantina-astoria\", \"name\": \"Chano's Cantina\", \"image_url\": \"https://s3-media3.fl.yelpcdn.com/bphoto/Di8o5LhA8pEK51sYr2rb2A/o.jpg\", \"is_closed\": false, \"url\": \"https://www.yelp.com/biz/chanos-cantina-astoria?adjust_creative=bVX1Jsfp4dkIOqw5HOVplg&utm_campaign=yelp_api_v3&utm_medium=api_v3_business_search&utm_source=bVX1Jsfp4dkIOqw5HOVplg\", \"review_count\": 169, \"categories\": [{\"alias\": \"cocktailbars\", \"title\": \"Cocktail Bars\"}, {\"alias\": \"newmexican\", \"title\": \"New Mexican Cuisine\"}], \"rating\": 4.0, \"coordinates\": {\"latitude\": 40.756621, \"longitude\": -73.929336}, \"transactions\": [\"restaurant_reservation\", \"delivery\", \"pickup\"], \"price\": \"$$\", \"location\": {\"address1\": \"35-55 31st\", \"address2\": \"\", \"address3\": \"\", \"city\": \"Astoria\", \"zip_code\": \"11106\", \"country\": \"US\", \"state\": \"NY\", \"display_address\": [\"35-55 31st\", \"Astoria, NY 11106\"]}, \"phone\": \"+19178327261\", \"display_phone\": \"(917) 832-7261\", \"distance\": 1290.427487513\n"
     ]
    }
   ],
   "source": [
    "term = 'Mexican'\n",
    "location = 'Astoria NY'\n",
    "SEARCH_LIMIT = 10 # return first 10 results\n",
    "\n",
    "url = 'https://api.yelp.com/v3/businesses/search'\n",
    "\n",
    "headers = {\n",
    "    'Authorization': 'Bearer {}'.format(api_key),\n",
    "}\n",
    "\n",
    "url_params = {\n",
    "    'term': term.replace(' ', '+'), # Astoria+NY -> depends on documentation (CHECK FIRST)\n",
    "    'location': location.replace(' ', '+'),\n",
    "    'limit': SEARCH_LIMIT\n",
    "}\n",
    "response = requests.get(url, headers=headers, params=url_params)\n",
    "print(response)\n",
    "print(type(response.text))\n",
    "print(response.text[:1000])"
   ]
  },
  {
   "cell_type": "code",
   "execution_count": 24,
   "metadata": {
    "collapsed": true
   },
   "outputs": [
    {
     "data": {
      "text/plain": [
       "{'businesses': [{'id': 'jeWIYbgBho9vBDhc5S1xvg',\n",
       "   'alias': 'chanos-cantina-astoria',\n",
       "   'name': \"Chano's Cantina\",\n",
       "   'image_url': 'https://s3-media3.fl.yelpcdn.com/bphoto/Di8o5LhA8pEK51sYr2rb2A/o.jpg',\n",
       "   'is_closed': False,\n",
       "   'url': 'https://www.yelp.com/biz/chanos-cantina-astoria?adjust_creative=bVX1Jsfp4dkIOqw5HOVplg&utm_campaign=yelp_api_v3&utm_medium=api_v3_business_search&utm_source=bVX1Jsfp4dkIOqw5HOVplg',\n",
       "   'review_count': 169,\n",
       "   'categories': [{'alias': 'cocktailbars', 'title': 'Cocktail Bars'},\n",
       "    {'alias': 'newmexican', 'title': 'New Mexican Cuisine'}],\n",
       "   'rating': 4.0,\n",
       "   'coordinates': {'latitude': 40.756621, 'longitude': -73.929336},\n",
       "   'transactions': ['restaurant_reservation', 'delivery', 'pickup'],\n",
       "   'price': '$$',\n",
       "   'location': {'address1': '35-55 31st',\n",
       "    'address2': '',\n",
       "    'address3': '',\n",
       "    'city': 'Astoria',\n",
       "    'zip_code': '11106',\n",
       "    'country': 'US',\n",
       "    'state': 'NY',\n",
       "    'display_address': ['35-55 31st', 'Astoria, NY 11106']},\n",
       "   'phone': '+19178327261',\n",
       "   'display_phone': '(917) 832-7261',\n",
       "   'distance': 1290.4274875130448},\n",
       "  {'id': 'jzVv_21473lAMYXIhVbuTA',\n",
       "   'alias': 'de-mole-astoria-astoria',\n",
       "   'name': 'De Mole Astoria',\n",
       "   'image_url': 'https://s3-media4.fl.yelpcdn.com/bphoto/w56szEF0EMQ2s8DBGv4icg/o.jpg',\n",
       "   'is_closed': False,\n",
       "   'url': 'https://www.yelp.com/biz/de-mole-astoria-astoria?adjust_creative=bVX1Jsfp4dkIOqw5HOVplg&utm_campaign=yelp_api_v3&utm_medium=api_v3_business_search&utm_source=bVX1Jsfp4dkIOqw5HOVplg',\n",
       "   'review_count': 364,\n",
       "   'categories': [{'alias': 'mexican', 'title': 'Mexican'}],\n",
       "   'rating': 4.0,\n",
       "   'coordinates': {'latitude': 40.7625999, 'longitude': -73.9129028},\n",
       "   'transactions': ['delivery', 'pickup'],\n",
       "   'price': '$$',\n",
       "   'location': {'address1': '4220 30th Ave',\n",
       "    'address2': '',\n",
       "    'address3': '',\n",
       "    'city': 'Astoria',\n",
       "    'zip_code': '11103',\n",
       "    'country': 'US',\n",
       "    'state': 'NY',\n",
       "    'display_address': ['4220 30th Ave', 'Astoria, NY 11103']},\n",
       "   'phone': '+17187771655',\n",
       "   'display_phone': '(718) 777-1655',\n",
       "   'distance': 915.60744589032},\n",
       "  {'id': 'yvva7IYpD6J7OfKlCdQrkw',\n",
       "   'alias': 'mi-espiguita-taqueria-astoria',\n",
       "   'name': 'Mi Espiguita Taqueria',\n",
       "   'image_url': 'https://s3-media2.fl.yelpcdn.com/bphoto/TEho39G01VJX05mNhI8W8A/o.jpg',\n",
       "   'is_closed': False,\n",
       "   'url': 'https://www.yelp.com/biz/mi-espiguita-taqueria-astoria?adjust_creative=bVX1Jsfp4dkIOqw5HOVplg&utm_campaign=yelp_api_v3&utm_medium=api_v3_business_search&utm_source=bVX1Jsfp4dkIOqw5HOVplg',\n",
       "   'review_count': 114,\n",
       "   'categories': [{'alias': 'mexican', 'title': 'Mexican'}],\n",
       "   'rating': 4.5,\n",
       "   'coordinates': {'latitude': 40.7612033639422,\n",
       "    'longitude': -73.9261436462402},\n",
       "   'transactions': ['delivery', 'pickup'],\n",
       "   'price': '$',\n",
       "   'location': {'address1': '32-44 31st St',\n",
       "    'address2': '',\n",
       "    'address3': '',\n",
       "    'city': 'Astoria',\n",
       "    'zip_code': '11106',\n",
       "    'country': 'US',\n",
       "    'state': 'NY',\n",
       "    'display_address': ['32-44 31st St', 'Astoria, NY 11106']},\n",
       "   'phone': '+17187775648',\n",
       "   'display_phone': '(718) 777-5648',\n",
       "   'distance': 714.301080232381},\n",
       "  {'id': '4cVajR3KnJh7cK9u_TiBAQ',\n",
       "   'alias': 'orale-mexican-food-astoria-2',\n",
       "   'name': 'Orale mexican food',\n",
       "   'image_url': 'https://s3-media4.fl.yelpcdn.com/bphoto/534NEWohRbLoA7nw_VQa6Q/o.jpg',\n",
       "   'is_closed': False,\n",
       "   'url': 'https://www.yelp.com/biz/orale-mexican-food-astoria-2?adjust_creative=bVX1Jsfp4dkIOqw5HOVplg&utm_campaign=yelp_api_v3&utm_medium=api_v3_business_search&utm_source=bVX1Jsfp4dkIOqw5HOVplg',\n",
       "   'review_count': 2,\n",
       "   'categories': [{'alias': 'mexican', 'title': 'Mexican'}],\n",
       "   'rating': 4.5,\n",
       "   'coordinates': {'latitude': 40.770261, 'longitude': -73.918361},\n",
       "   'transactions': ['delivery', 'pickup'],\n",
       "   'location': {'address1': '30-19 Astoria Blvd',\n",
       "    'address2': '',\n",
       "    'address3': '',\n",
       "    'city': 'Astoria',\n",
       "    'zip_code': '11102',\n",
       "    'country': 'US',\n",
       "    'state': 'NY',\n",
       "    'display_address': ['30-19 Astoria Blvd', 'Astoria, NY 11102']},\n",
       "   'phone': '+19173961753',\n",
       "   'display_phone': '(917) 396-1753',\n",
       "   'distance': 494.8529458975233},\n",
       "  {'id': 'AUyKmFjpaVLwc3awfUnqgQ',\n",
       "   'alias': 'chela-and-garnacha-astoria',\n",
       "   'name': 'Chela & Garnacha',\n",
       "   'image_url': 'https://s3-media1.fl.yelpcdn.com/bphoto/ChVbA1_xqLHFXL4Iyh84NA/o.jpg',\n",
       "   'is_closed': False,\n",
       "   'url': 'https://www.yelp.com/biz/chela-and-garnacha-astoria?adjust_creative=bVX1Jsfp4dkIOqw5HOVplg&utm_campaign=yelp_api_v3&utm_medium=api_v3_business_search&utm_source=bVX1Jsfp4dkIOqw5HOVplg',\n",
       "   'review_count': 364,\n",
       "   'categories': [{'alias': 'mexican', 'title': 'Mexican'},\n",
       "    {'alias': 'wine_bars', 'title': 'Wine Bars'},\n",
       "    {'alias': 'breakfast_brunch', 'title': 'Breakfast & Brunch'}],\n",
       "   'rating': 4.5,\n",
       "   'coordinates': {'latitude': 40.7557171543477,\n",
       "    'longitude': -73.927811292412},\n",
       "   'transactions': ['delivery', 'pickup'],\n",
       "   'price': '$$',\n",
       "   'location': {'address1': '33-09 36th Ave',\n",
       "    'address2': '',\n",
       "    'address3': '',\n",
       "    'city': 'Astoria',\n",
       "    'zip_code': '11106',\n",
       "    'country': 'US',\n",
       "    'state': 'NY',\n",
       "    'display_address': ['33-09 36th Ave', 'Astoria, NY 11106']},\n",
       "   'phone': '+19178326876',\n",
       "   'display_phone': '(917) 832-6876',\n",
       "   'distance': 1318.3265473785546},\n",
       "  {'id': '6AJwsgXr7YwsqneGVAdgzw',\n",
       "   'alias': 'las-catrinas-mexican-bar-and-eatery-astoria',\n",
       "   'name': 'Las Catrinas Mexican Bar & Eatery',\n",
       "   'image_url': 'https://s3-media3.fl.yelpcdn.com/bphoto/3uevye47llEi-lAXf5RYPw/o.jpg',\n",
       "   'is_closed': False,\n",
       "   'url': 'https://www.yelp.com/biz/las-catrinas-mexican-bar-and-eatery-astoria?adjust_creative=bVX1Jsfp4dkIOqw5HOVplg&utm_campaign=yelp_api_v3&utm_medium=api_v3_business_search&utm_source=bVX1Jsfp4dkIOqw5HOVplg',\n",
       "   'review_count': 303,\n",
       "   'categories': [{'alias': 'mexican', 'title': 'Mexican'},\n",
       "    {'alias': 'cocktailbars', 'title': 'Cocktail Bars'}],\n",
       "   'rating': 4.0,\n",
       "   'coordinates': {'latitude': 40.7614214682633,\n",
       "    'longitude': -73.9246649456171},\n",
       "   'transactions': ['delivery', 'pickup'],\n",
       "   'price': '$$',\n",
       "   'location': {'address1': '32-02 Broadway',\n",
       "    'address2': '',\n",
       "    'address3': None,\n",
       "    'city': 'Astoria',\n",
       "    'zip_code': '11106',\n",
       "    'country': 'US',\n",
       "    'state': 'NY',\n",
       "    'display_address': ['32-02 Broadway', 'Astoria, NY 11106']},\n",
       "   'phone': '+19177450969',\n",
       "   'display_phone': '(917) 745-0969',\n",
       "   'distance': 642.5257707161409},\n",
       "  {'id': 'EHUNrnIgnhwTnpOm3gEESg',\n",
       "   'alias': 'tacuba-astoria',\n",
       "   'name': 'Tacuba',\n",
       "   'image_url': 'https://s3-media4.fl.yelpcdn.com/bphoto/Q6jPz4xg6QPh4NElULobrA/o.jpg',\n",
       "   'is_closed': False,\n",
       "   'url': 'https://www.yelp.com/biz/tacuba-astoria?adjust_creative=bVX1Jsfp4dkIOqw5HOVplg&utm_campaign=yelp_api_v3&utm_medium=api_v3_business_search&utm_source=bVX1Jsfp4dkIOqw5HOVplg',\n",
       "   'review_count': 649,\n",
       "   'categories': [{'alias': 'mexican', 'title': 'Mexican'},\n",
       "    {'alias': 'tapas', 'title': 'Tapas Bars'},\n",
       "    {'alias': 'latin', 'title': 'Latin American'}],\n",
       "   'rating': 4.0,\n",
       "   'coordinates': {'latitude': 40.75585, 'longitude': -73.92447},\n",
       "   'transactions': ['delivery', 'pickup'],\n",
       "   'price': '$$',\n",
       "   'location': {'address1': '35-01 36th St',\n",
       "    'address2': '',\n",
       "    'address3': '',\n",
       "    'city': 'Astoria',\n",
       "    'zip_code': '11106',\n",
       "    'country': 'US',\n",
       "    'state': 'NY',\n",
       "    'display_address': ['35-01 36th St', 'Astoria, NY 11106']},\n",
       "   'phone': '+17187862727',\n",
       "   'display_phone': '(718) 786-2727',\n",
       "   'distance': 1229.3517053099579},\n",
       "  {'id': 'anBWvFPOce4nl3qLX-H6Rg',\n",
       "   'alias': 'el-mero-mero-long-island-city',\n",
       "   'name': 'El Mero Mero',\n",
       "   'image_url': 'https://s3-media2.fl.yelpcdn.com/bphoto/7tp30klraR5JTG73cKSt9A/o.jpg',\n",
       "   'is_closed': False,\n",
       "   'url': 'https://www.yelp.com/biz/el-mero-mero-long-island-city?adjust_creative=bVX1Jsfp4dkIOqw5HOVplg&utm_campaign=yelp_api_v3&utm_medium=api_v3_business_search&utm_source=bVX1Jsfp4dkIOqw5HOVplg',\n",
       "   'review_count': 82,\n",
       "   'categories': [{'alias': 'mexican', 'title': 'Mexican'}],\n",
       "   'rating': 4.5,\n",
       "   'coordinates': {'latitude': 40.753834323302, 'longitude': -73.923701159656},\n",
       "   'transactions': ['delivery', 'pickup'],\n",
       "   'price': '$$',\n",
       "   'location': {'address1': '35-57 38th St',\n",
       "    'address2': '',\n",
       "    'address3': None,\n",
       "    'city': 'Long Island City',\n",
       "    'zip_code': '11101',\n",
       "    'country': 'US',\n",
       "    'state': 'NY',\n",
       "    'display_address': ['35-57 38th St', 'Long Island City, NY 11101']},\n",
       "   'phone': '+17183922444',\n",
       "   'display_phone': '(718) 392-2444',\n",
       "   'distance': 1457.1140726924923},\n",
       "  {'id': 'QIsFsiOP3H_NkgeWST7GPA',\n",
       "   'alias': 'maizal-restaurant-and-tequila-bar-astoria-2',\n",
       "   'name': 'Maizal Restaurant & Tequila Bar',\n",
       "   'image_url': 'https://s3-media3.fl.yelpcdn.com/bphoto/B2n1tzy4syl3ZSzADRj_dA/o.jpg',\n",
       "   'is_closed': False,\n",
       "   'url': 'https://www.yelp.com/biz/maizal-restaurant-and-tequila-bar-astoria-2?adjust_creative=bVX1Jsfp4dkIOqw5HOVplg&utm_campaign=yelp_api_v3&utm_medium=api_v3_business_search&utm_source=bVX1Jsfp4dkIOqw5HOVplg',\n",
       "   'review_count': 295,\n",
       "   'categories': [{'alias': 'mexican', 'title': 'Mexican'},\n",
       "    {'alias': 'cocktailbars', 'title': 'Cocktail Bars'}],\n",
       "   'rating': 4.0,\n",
       "   'coordinates': {'latitude': 40.759331, 'longitude': -73.926035},\n",
       "   'transactions': ['delivery', 'pickup'],\n",
       "   'price': '$$',\n",
       "   'location': {'address1': '3207 34th Ave',\n",
       "    'address2': None,\n",
       "    'address3': None,\n",
       "    'city': 'Astoria',\n",
       "    'zip_code': '11106',\n",
       "    'country': 'US',\n",
       "    'state': 'NY',\n",
       "    'display_address': ['3207 34th Ave', 'Astoria, NY 11106']},\n",
       "   'phone': '+17184069431',\n",
       "   'display_phone': '(718) 406-9431',\n",
       "   'distance': 900.4510911871262},\n",
       "  {'id': '2jjxdN9FXWVdx6DEX83krQ',\n",
       "   'alias': 'hoja-santa-astoria',\n",
       "   'name': 'Hoja Santa',\n",
       "   'image_url': 'https://s3-media3.fl.yelpcdn.com/bphoto/xqo13EL7qHVwTDbN2nzUFg/o.jpg',\n",
       "   'is_closed': False,\n",
       "   'url': 'https://www.yelp.com/biz/hoja-santa-astoria?adjust_creative=bVX1Jsfp4dkIOqw5HOVplg&utm_campaign=yelp_api_v3&utm_medium=api_v3_business_search&utm_source=bVX1Jsfp4dkIOqw5HOVplg',\n",
       "   'review_count': 33,\n",
       "   'categories': [{'alias': 'newmexican', 'title': 'New Mexican Cuisine'},\n",
       "    {'alias': 'mexican', 'title': 'Mexican'}],\n",
       "   'rating': 4.5,\n",
       "   'coordinates': {'latitude': 40.7638197, 'longitude': -73.914523},\n",
       "   'transactions': [],\n",
       "   'location': {'address1': '40-17 30th Ave',\n",
       "    'address2': '',\n",
       "    'address3': None,\n",
       "    'city': 'Astoria',\n",
       "    'zip_code': '11103',\n",
       "    'country': 'US',\n",
       "    'state': 'NY',\n",
       "    'display_address': ['40-17 30th Ave', 'Astoria, NY 11103']},\n",
       "   'phone': '',\n",
       "   'display_phone': '',\n",
       "   'distance': 751.5314685207126}],\n",
       " 'total': 680,\n",
       " 'region': {'center': {'longitude': -73.92219543457031,\n",
       "   'latitude': 40.76688875374591}}}"
      ]
     },
     "execution_count": 24,
     "metadata": {},
     "output_type": "execute_result"
    }
   ],
   "source": [
    "response.json()"
   ]
  },
  {
   "cell_type": "markdown",
   "metadata": {},
   "source": [
    "    1) Dont make your API keys public (i.e could contain confidential info, credit card/passwords). Make a passwords.py and add to gitignore. Use main code to import from that file so that it never appears in plain text.\n",
    "    2) Practice going through JSON, and looping dictionaries, and making API calls\n",
    "    3) Review API documentation\n",
    "    4) look up existing python packages for commonly-used APIs"
   ]
  },
  {
   "cell_type": "markdown",
   "metadata": {},
   "source": [
    "Usually there are already packages developed for common APIs (i.e Twitter, Reddit, etc.). Very helpful to look up if there's already a python package for it."
   ]
  },
  {
   "cell_type": "markdown",
   "metadata": {},
   "source": [
    "## Breaking Down the Request\n",
    "\n",
    "As you can see, there are three main parts to our request.  \n",
    "  \n",
    "They are:\n",
    "* The url\n",
    "* The header\n",
    "* The parameters\n",
    "  \n",
    "The url is fairly straightforward and is simply the base url as described in the documentation (again more details in the upcoming lesson).\n",
    "\n",
    "The header is a dictionary of key-value pairs. In this case, we are using a fairly standard header used by many APIs. It has a strict form where 'Authorization' is the key and 'Bearer YourApiKey' is the value.\n",
    "\n",
    "The parameters are the filters which we wish to pass into the query. These will be embedded into the url when the request is made to the api. Similar to the header, they form key-value pairs. Valid key parameters by which to structure your queries, are described in the API documentation which we'll look at further shortly. A final important note however, is the need to replace spaces with \"+\". This is standard to many requests as URLs cannot contain spaces. (Note that the header itself isn't directly embedded into the url itself and as such, the space between 'Bearer' and YourApiKey is valid.)"
   ]
  },
  {
   "cell_type": "markdown",
   "metadata": {},
   "source": [
    "\n",
    "## The Response\n",
    "\n",
    "As before, our response object has both a status code, as well as the data itself. With that, let's start with a little data exploration!"
   ]
  },
  {
   "cell_type": "code",
   "execution_count": 25,
   "metadata": {},
   "outputs": [
    {
     "data": {
      "text/plain": [
       "dict_keys(['businesses', 'total', 'region'])"
      ]
     },
     "execution_count": 25,
     "metadata": {},
     "output_type": "execute_result"
    }
   ],
   "source": [
    "response.json().keys()\n"
   ]
  },
  {
   "cell_type": "markdown",
   "metadata": {},
   "source": [
    "Now let's go a bit further and start to preview what's stored in each of the values for these keys.\n"
   ]
  },
  {
   "cell_type": "code",
   "execution_count": 26,
   "metadata": {},
   "outputs": [
    {
     "name": "stdout",
     "output_type": "stream",
     "text": [
      "businesses\n",
      "<class 'list'>\n",
      "total\n",
      "<class 'int'>\n",
      "region\n",
      "<class 'dict'>\n"
     ]
    }
   ],
   "source": [
    "for key in response.json().keys():\n",
    "    print(key)\n",
    "    value = response.json()[key] \n",
    "    print(type(value), sep=\"\\n\\n\")"
   ]
  },
  {
   "cell_type": "markdown",
   "metadata": {},
   "source": [
    "Let's continue to preview these further to get a little better acquainted.\n"
   ]
  },
  {
   "cell_type": "code",
   "execution_count": 28,
   "metadata": {
    "collapsed": true
   },
   "outputs": [
    {
     "data": {
      "text/plain": [
       "[{'id': 'jeWIYbgBho9vBDhc5S1xvg',\n",
       "  'alias': 'chanos-cantina-astoria',\n",
       "  'name': \"Chano's Cantina\",\n",
       "  'image_url': 'https://s3-media3.fl.yelpcdn.com/bphoto/Di8o5LhA8pEK51sYr2rb2A/o.jpg',\n",
       "  'is_closed': False,\n",
       "  'url': 'https://www.yelp.com/biz/chanos-cantina-astoria?adjust_creative=bVX1Jsfp4dkIOqw5HOVplg&utm_campaign=yelp_api_v3&utm_medium=api_v3_business_search&utm_source=bVX1Jsfp4dkIOqw5HOVplg',\n",
       "  'review_count': 169,\n",
       "  'categories': [{'alias': 'cocktailbars', 'title': 'Cocktail Bars'},\n",
       "   {'alias': 'newmexican', 'title': 'New Mexican Cuisine'}],\n",
       "  'rating': 4.0,\n",
       "  'coordinates': {'latitude': 40.756621, 'longitude': -73.929336},\n",
       "  'transactions': ['restaurant_reservation', 'delivery', 'pickup'],\n",
       "  'price': '$$',\n",
       "  'location': {'address1': '35-55 31st',\n",
       "   'address2': '',\n",
       "   'address3': '',\n",
       "   'city': 'Astoria',\n",
       "   'zip_code': '11106',\n",
       "   'country': 'US',\n",
       "   'state': 'NY',\n",
       "   'display_address': ['35-55 31st', 'Astoria, NY 11106']},\n",
       "  'phone': '+19178327261',\n",
       "  'display_phone': '(917) 832-7261',\n",
       "  'distance': 1290.4274875130448},\n",
       " {'id': 'jzVv_21473lAMYXIhVbuTA',\n",
       "  'alias': 'de-mole-astoria-astoria',\n",
       "  'name': 'De Mole Astoria',\n",
       "  'image_url': 'https://s3-media4.fl.yelpcdn.com/bphoto/w56szEF0EMQ2s8DBGv4icg/o.jpg',\n",
       "  'is_closed': False,\n",
       "  'url': 'https://www.yelp.com/biz/de-mole-astoria-astoria?adjust_creative=bVX1Jsfp4dkIOqw5HOVplg&utm_campaign=yelp_api_v3&utm_medium=api_v3_business_search&utm_source=bVX1Jsfp4dkIOqw5HOVplg',\n",
       "  'review_count': 364,\n",
       "  'categories': [{'alias': 'mexican', 'title': 'Mexican'}],\n",
       "  'rating': 4.0,\n",
       "  'coordinates': {'latitude': 40.7625999, 'longitude': -73.9129028},\n",
       "  'transactions': ['delivery', 'pickup'],\n",
       "  'price': '$$',\n",
       "  'location': {'address1': '4220 30th Ave',\n",
       "   'address2': '',\n",
       "   'address3': '',\n",
       "   'city': 'Astoria',\n",
       "   'zip_code': '11103',\n",
       "   'country': 'US',\n",
       "   'state': 'NY',\n",
       "   'display_address': ['4220 30th Ave', 'Astoria, NY 11103']},\n",
       "  'phone': '+17187771655',\n",
       "  'display_phone': '(718) 777-1655',\n",
       "  'distance': 915.60744589032}]"
      ]
     },
     "execution_count": 28,
     "metadata": {},
     "output_type": "execute_result"
    }
   ],
   "source": [
    "yelp_data =response.json()\n",
    "yelp_data['businesses'][:2]\n"
   ]
  },
  {
   "cell_type": "markdown",
   "metadata": {},
   "source": [
    "Import into pandas"
   ]
  },
  {
   "cell_type": "code",
   "execution_count": 33,
   "metadata": {},
   "outputs": [
    {
     "data": {
      "text/html": [
       "<div>\n",
       "<style scoped>\n",
       "    .dataframe tbody tr th:only-of-type {\n",
       "        vertical-align: middle;\n",
       "    }\n",
       "\n",
       "    .dataframe tbody tr th {\n",
       "        vertical-align: top;\n",
       "    }\n",
       "\n",
       "    .dataframe thead th {\n",
       "        text-align: right;\n",
       "    }\n",
       "</style>\n",
       "<table border=\"1\" class=\"dataframe\">\n",
       "  <thead>\n",
       "    <tr style=\"text-align: right;\">\n",
       "      <th></th>\n",
       "      <th>id</th>\n",
       "      <th>alias</th>\n",
       "      <th>name</th>\n",
       "      <th>image_url</th>\n",
       "      <th>is_closed</th>\n",
       "      <th>url</th>\n",
       "      <th>review_count</th>\n",
       "      <th>categories</th>\n",
       "      <th>rating</th>\n",
       "      <th>coordinates</th>\n",
       "      <th>transactions</th>\n",
       "      <th>price</th>\n",
       "      <th>location</th>\n",
       "      <th>phone</th>\n",
       "      <th>display_phone</th>\n",
       "      <th>distance</th>\n",
       "    </tr>\n",
       "  </thead>\n",
       "  <tbody>\n",
       "    <tr>\n",
       "      <td>0</td>\n",
       "      <td>jeWIYbgBho9vBDhc5S1xvg</td>\n",
       "      <td>chanos-cantina-astoria</td>\n",
       "      <td>Chano's Cantina</td>\n",
       "      <td>https://s3-media3.fl.yelpcdn.com/bphoto/Di8o5L...</td>\n",
       "      <td>False</td>\n",
       "      <td>https://www.yelp.com/biz/chanos-cantina-astori...</td>\n",
       "      <td>169</td>\n",
       "      <td>[{'alias': 'cocktailbars', 'title': 'Cocktail ...</td>\n",
       "      <td>4.0</td>\n",
       "      <td>{'latitude': 40.756621, 'longitude': -73.929336}</td>\n",
       "      <td>[restaurant_reservation, delivery, pickup]</td>\n",
       "      <td>$$</td>\n",
       "      <td>{'address1': '35-55 31st', 'address2': '', 'ad...</td>\n",
       "      <td>+19178327261</td>\n",
       "      <td>(917) 832-7261</td>\n",
       "      <td>1290.427488</td>\n",
       "    </tr>\n",
       "    <tr>\n",
       "      <td>1</td>\n",
       "      <td>jzVv_21473lAMYXIhVbuTA</td>\n",
       "      <td>de-mole-astoria-astoria</td>\n",
       "      <td>De Mole Astoria</td>\n",
       "      <td>https://s3-media4.fl.yelpcdn.com/bphoto/w56szE...</td>\n",
       "      <td>False</td>\n",
       "      <td>https://www.yelp.com/biz/de-mole-astoria-astor...</td>\n",
       "      <td>364</td>\n",
       "      <td>[{'alias': 'mexican', 'title': 'Mexican'}]</td>\n",
       "      <td>4.0</td>\n",
       "      <td>{'latitude': 40.7625999, 'longitude': -73.9129...</td>\n",
       "      <td>[delivery, pickup]</td>\n",
       "      <td>$$</td>\n",
       "      <td>{'address1': '4220 30th Ave', 'address2': '', ...</td>\n",
       "      <td>+17187771655</td>\n",
       "      <td>(718) 777-1655</td>\n",
       "      <td>915.607446</td>\n",
       "    </tr>\n",
       "    <tr>\n",
       "      <td>2</td>\n",
       "      <td>yvva7IYpD6J7OfKlCdQrkw</td>\n",
       "      <td>mi-espiguita-taqueria-astoria</td>\n",
       "      <td>Mi Espiguita Taqueria</td>\n",
       "      <td>https://s3-media2.fl.yelpcdn.com/bphoto/TEho39...</td>\n",
       "      <td>False</td>\n",
       "      <td>https://www.yelp.com/biz/mi-espiguita-taqueria...</td>\n",
       "      <td>114</td>\n",
       "      <td>[{'alias': 'mexican', 'title': 'Mexican'}]</td>\n",
       "      <td>4.5</td>\n",
       "      <td>{'latitude': 40.7612033639422, 'longitude': -7...</td>\n",
       "      <td>[delivery, pickup]</td>\n",
       "      <td>$</td>\n",
       "      <td>{'address1': '32-44 31st St', 'address2': '', ...</td>\n",
       "      <td>+17187775648</td>\n",
       "      <td>(718) 777-5648</td>\n",
       "      <td>714.301080</td>\n",
       "    </tr>\n",
       "    <tr>\n",
       "      <td>3</td>\n",
       "      <td>4cVajR3KnJh7cK9u_TiBAQ</td>\n",
       "      <td>orale-mexican-food-astoria-2</td>\n",
       "      <td>Orale mexican food</td>\n",
       "      <td>https://s3-media4.fl.yelpcdn.com/bphoto/534NEW...</td>\n",
       "      <td>False</td>\n",
       "      <td>https://www.yelp.com/biz/orale-mexican-food-as...</td>\n",
       "      <td>2</td>\n",
       "      <td>[{'alias': 'mexican', 'title': 'Mexican'}]</td>\n",
       "      <td>4.5</td>\n",
       "      <td>{'latitude': 40.770261, 'longitude': -73.918361}</td>\n",
       "      <td>[delivery, pickup]</td>\n",
       "      <td>NaN</td>\n",
       "      <td>{'address1': '30-19 Astoria Blvd', 'address2':...</td>\n",
       "      <td>+19173961753</td>\n",
       "      <td>(917) 396-1753</td>\n",
       "      <td>494.852946</td>\n",
       "    </tr>\n",
       "    <tr>\n",
       "      <td>4</td>\n",
       "      <td>AUyKmFjpaVLwc3awfUnqgQ</td>\n",
       "      <td>chela-and-garnacha-astoria</td>\n",
       "      <td>Chela &amp; Garnacha</td>\n",
       "      <td>https://s3-media1.fl.yelpcdn.com/bphoto/ChVbA1...</td>\n",
       "      <td>False</td>\n",
       "      <td>https://www.yelp.com/biz/chela-and-garnacha-as...</td>\n",
       "      <td>364</td>\n",
       "      <td>[{'alias': 'mexican', 'title': 'Mexican'}, {'a...</td>\n",
       "      <td>4.5</td>\n",
       "      <td>{'latitude': 40.7557171543477, 'longitude': -7...</td>\n",
       "      <td>[delivery, pickup]</td>\n",
       "      <td>$$</td>\n",
       "      <td>{'address1': '33-09 36th Ave', 'address2': '',...</td>\n",
       "      <td>+19178326876</td>\n",
       "      <td>(917) 832-6876</td>\n",
       "      <td>1318.326547</td>\n",
       "    </tr>\n",
       "  </tbody>\n",
       "</table>\n",
       "</div>"
      ],
      "text/plain": [
       "                       id                          alias  \\\n",
       "0  jeWIYbgBho9vBDhc5S1xvg         chanos-cantina-astoria   \n",
       "1  jzVv_21473lAMYXIhVbuTA        de-mole-astoria-astoria   \n",
       "2  yvva7IYpD6J7OfKlCdQrkw  mi-espiguita-taqueria-astoria   \n",
       "3  4cVajR3KnJh7cK9u_TiBAQ   orale-mexican-food-astoria-2   \n",
       "4  AUyKmFjpaVLwc3awfUnqgQ     chela-and-garnacha-astoria   \n",
       "\n",
       "                    name                                          image_url  \\\n",
       "0        Chano's Cantina  https://s3-media3.fl.yelpcdn.com/bphoto/Di8o5L...   \n",
       "1        De Mole Astoria  https://s3-media4.fl.yelpcdn.com/bphoto/w56szE...   \n",
       "2  Mi Espiguita Taqueria  https://s3-media2.fl.yelpcdn.com/bphoto/TEho39...   \n",
       "3     Orale mexican food  https://s3-media4.fl.yelpcdn.com/bphoto/534NEW...   \n",
       "4       Chela & Garnacha  https://s3-media1.fl.yelpcdn.com/bphoto/ChVbA1...   \n",
       "\n",
       "   is_closed                                                url  review_count  \\\n",
       "0      False  https://www.yelp.com/biz/chanos-cantina-astori...           169   \n",
       "1      False  https://www.yelp.com/biz/de-mole-astoria-astor...           364   \n",
       "2      False  https://www.yelp.com/biz/mi-espiguita-taqueria...           114   \n",
       "3      False  https://www.yelp.com/biz/orale-mexican-food-as...             2   \n",
       "4      False  https://www.yelp.com/biz/chela-and-garnacha-as...           364   \n",
       "\n",
       "                                          categories  rating  \\\n",
       "0  [{'alias': 'cocktailbars', 'title': 'Cocktail ...     4.0   \n",
       "1         [{'alias': 'mexican', 'title': 'Mexican'}]     4.0   \n",
       "2         [{'alias': 'mexican', 'title': 'Mexican'}]     4.5   \n",
       "3         [{'alias': 'mexican', 'title': 'Mexican'}]     4.5   \n",
       "4  [{'alias': 'mexican', 'title': 'Mexican'}, {'a...     4.5   \n",
       "\n",
       "                                         coordinates  \\\n",
       "0   {'latitude': 40.756621, 'longitude': -73.929336}   \n",
       "1  {'latitude': 40.7625999, 'longitude': -73.9129...   \n",
       "2  {'latitude': 40.7612033639422, 'longitude': -7...   \n",
       "3   {'latitude': 40.770261, 'longitude': -73.918361}   \n",
       "4  {'latitude': 40.7557171543477, 'longitude': -7...   \n",
       "\n",
       "                                 transactions price  \\\n",
       "0  [restaurant_reservation, delivery, pickup]    $$   \n",
       "1                          [delivery, pickup]    $$   \n",
       "2                          [delivery, pickup]     $   \n",
       "3                          [delivery, pickup]   NaN   \n",
       "4                          [delivery, pickup]    $$   \n",
       "\n",
       "                                            location         phone  \\\n",
       "0  {'address1': '35-55 31st', 'address2': '', 'ad...  +19178327261   \n",
       "1  {'address1': '4220 30th Ave', 'address2': '', ...  +17187771655   \n",
       "2  {'address1': '32-44 31st St', 'address2': '', ...  +17187775648   \n",
       "3  {'address1': '30-19 Astoria Blvd', 'address2':...  +19173961753   \n",
       "4  {'address1': '33-09 36th Ave', 'address2': '',...  +19178326876   \n",
       "\n",
       "    display_phone     distance  \n",
       "0  (917) 832-7261  1290.427488  \n",
       "1  (718) 777-1655   915.607446  \n",
       "2  (718) 777-5648   714.301080  \n",
       "3  (917) 396-1753   494.852946  \n",
       "4  (917) 832-6876  1318.326547  "
      ]
     },
     "execution_count": 33,
     "metadata": {},
     "output_type": "execute_result"
    }
   ],
   "source": [
    "import pandas\n",
    "df = pandas.DataFrame(yelp_data['businesses'])\n",
    "# wont usually work this well. will need to loop through and pull what you want\n",
    "df.head()"
   ]
  },
  {
   "cell_type": "markdown",
   "metadata": {},
   "source": [
    "As you can see, we're primarily interested in the 'bussinesses' entry. \n"
   ]
  },
  {
   "cell_type": "markdown",
   "metadata": {},
   "source": [
    "## Summary <a id=\"sum\"></a>\n",
    "\n",
    "Congratulations! We've covered a lot here! We took some of your previous knowledge with HTTP requests and OAuth in order to leverage an enterprise API! Then we made some requests to retrieve information that came back as a json format. We then transformed this data into a dataframe using the Pandas package. In the next lab, we'll break down how to read API documentation and then put it all together to make a nifty map!"
   ]
  }
 ],
 "metadata": {
  "kernelspec": {
   "display_name": "Python 3",
   "language": "python",
   "name": "python3"
  },
  "language_info": {
   "codemirror_mode": {
    "name": "ipython",
    "version": 3
   },
   "file_extension": ".py",
   "mimetype": "text/x-python",
   "name": "python",
   "nbconvert_exporter": "python",
   "pygments_lexer": "ipython3",
   "version": "3.6.9"
  }
 },
 "nbformat": 4,
 "nbformat_minor": 2
}
