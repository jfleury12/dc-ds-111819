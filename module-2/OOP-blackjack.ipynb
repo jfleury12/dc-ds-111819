{
 "cells": [
  {
   "cell_type": "markdown",
   "metadata": {},
   "source": [
    "# List of objects involved in blackjack:\n",
    "\n",
    "card\n",
    "deck\n",
    "hand\n",
    "\n",
    "table\n",
    "game\n",
    "\n",
    "chip\n",
    "\n",
    "player\n",
    "dealer"
   ]
  },
  {
   "cell_type": "code",
   "execution_count": 10,
   "metadata": {},
   "outputs": [],
   "source": [
    "from itertools import product\n",
    "from random import shuffle\n",
    "# shuffle from random library\n",
    "\n",
    "class Card:\n",
    "    def __init__(self, suit, value):\n",
    "        self.suit = suit\n",
    "        self.value = value\n",
    "        \n",
    "    def __str__():\n",
    "    # __str__ = string representation of an object\n",
    "        return f\"{self.suit}{self.value}\""
   ]
  },
  {
   "cell_type": "code",
   "execution_count": 3,
   "metadata": {},
   "outputs": [],
   "source": [
    "ace_hearts = Card('H','A')"
   ]
  },
  {
   "cell_type": "code",
   "execution_count": 9,
   "metadata": {
    "collapsed": true
   },
   "outputs": [
    {
     "ename": "TypeError",
     "evalue": "__str__() takes 0 positional arguments but 1 was given",
     "output_type": "error",
     "traceback": [
      "\u001b[0;31m---------------------------------------------------------------------------\u001b[0m",
      "\u001b[0;31mTypeError\u001b[0m                                 Traceback (most recent call last)",
      "\u001b[0;32m<ipython-input-9-1f73d6eb110c>\u001b[0m in \u001b[0;36m<module>\u001b[0;34m\u001b[0m\n\u001b[0;32m----> 1\u001b[0;31m \u001b[0mprint\u001b[0m\u001b[0;34m(\u001b[0m\u001b[0mace_hearts\u001b[0m\u001b[0;34m)\u001b[0m\u001b[0;34m\u001b[0m\u001b[0;34m\u001b[0m\u001b[0m\n\u001b[0m",
      "\u001b[0;31mTypeError\u001b[0m: __str__() takes 0 positional arguments but 1 was given"
     ]
    }
   ],
   "source": [
    "print(ace_hearts)"
   ]
  },
  {
   "cell_type": "code",
   "execution_count": 16,
   "metadata": {},
   "outputs": [
    {
     "ename": "SyntaxError",
     "evalue": "invalid syntax (<ipython-input-16-db26ca6a6824>, line 8)",
     "output_type": "error",
     "traceback": [
      "\u001b[0;36m  File \u001b[0;32m\"<ipython-input-16-db26ca6a6824>\"\u001b[0;36m, line \u001b[0;32m8\u001b[0m\n\u001b[0;31m    return (self.cards.popleft(0) for _ range(n))\u001b[0m\n\u001b[0m                                            ^\u001b[0m\n\u001b[0;31mSyntaxError\u001b[0m\u001b[0;31m:\u001b[0m invalid syntax\n"
     ]
    }
   ],
   "source": [
    "class Deck:\n",
    "    def __init__(self):\n",
    "        suits = ('H','S','C','D')\n",
    "        values = ('A','2','3','4','5','6','7','8','9','10','J','Q','K')\n",
    "        cards = list(product(suits,values))\n",
    "        \n",
    "    def deal(self, n=1):\n",
    "        return (self.cards.popleft() for _ range(n))\n",
    "    \n",
    "    def return_card(self):\n",
    "        if isinstance(card, Card):\n",
    "            self.cards.append(Card)\n",
    "            \n",
    "    def shuffle(self):\n",
    "        \n",
    "class BlackJackCard(Card):\n",
    "    @property\n",
    "    def score(self):\n",
    "        try:\n",
    "            return int(self.value)\n",
    "        except ValueError as e:\n",
    "            if self.value in ('J','Q','K'):\n",
    "                return 10\n",
    "            elif self.value == 'A':\n",
    "                return 11\n",
    "            else raise e\n",
    "    \n",
    "class BlackJackHand:\n",
    "    def __init__(self, cards=None):\n",
    "        self.cards = deque()\n",
    "        for card in cards:\n",
    "            self.add_card(card)\n",
    "            \n",
    "    def add_cards(self, card):\n",
    "        if isinstance(card, Card):\n",
    "            self.cards.append(card)\n",
    "    \n",
    "    def __str__(self):\n",
    "        return \",\".join((card.__str__() for card in self.cards))\n",
    "    \n",
    "    def value(self):\n",
    "        val = 0\n",
    "        num_aces = 0 # edit this\n",
    "        for card in self.cards:\n",
    "            if card.value == 'A':\n",
    "                num_aces += 1\n",
    "            value += card.score\n",
    "            if value > 21 and num_aces: # leaving as 'num_aces' means anything but 0. \n",
    "                value -= 10\n",
    "                num_aces -= 1\n",
    "class Table:\n",
    "    pass:\n",
    "class Game:\n",
    "    pass\n",
    "class Chip:\n",
    "    pass\n",
    "class Player:\n",
    "    pass\n",
    "class Dealer:\n",
    "    pass"
   ]
  },
  {
   "cell_type": "code",
   "execution_count": null,
   "metadata": {},
   "outputs": [],
   "source": []
  }
 ],
 "metadata": {
  "kernelspec": {
   "display_name": "Python 3",
   "language": "python",
   "name": "python3"
  },
  "language_info": {
   "codemirror_mode": {
    "name": "ipython",
    "version": 3
   },
   "file_extension": ".py",
   "mimetype": "text/x-python",
   "name": "python",
   "nbconvert_exporter": "python",
   "pygments_lexer": "ipython3",
   "version": "3.6.9"
  }
 },
 "nbformat": 4,
 "nbformat_minor": 2
}
