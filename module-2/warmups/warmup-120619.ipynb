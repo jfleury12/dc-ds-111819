{
 "cells": [
  {
   "cell_type": "markdown",
   "metadata": {},
   "source": [
    "The following is a dictionary of dictionaries and lists. Write one line of code that navigates through the dictionary and lists to return the height of Alex Heer.\n",
    "Hints:\n",
    "Remember, you can access the items of a dictionary by referring to its key name, inside square brackets. Look up some dictionary methods.\n",
    "START SMALL, go layer by layer until you find what you are looking for.\n",
    "Read the error codes, know if you are accessing a list or a dictionary. This is a GREAT skill to have."
   ]
  },
  {
   "cell_type": "code",
   "execution_count": 1,
   "metadata": {},
   "outputs": [],
   "source": [
    "dictionary_of_dictionary = {\"school_roster\": {\n",
    "    \"in_session\": \"yes\",\n",
    "    \"Grade_2\": {\n",
    "        \"class_roster\": [\n",
    "            {\n",
    "            \"title\": \"Teacher\",\n",
    "            \"name\": \"Sierra Vogt\",\n",
    "            \"age\": 34,\n",
    "            \"height\": 182},\n",
    "            {\n",
    "            \"title\": \"Student\",\n",
    "            \"name\": \"Blake Cross\",\n",
    "            \"age\": 12,\n",
    "            \"height\": 106},\n",
    "            {\n",
    "            \"title\": \"Student\",\n",
    "            \"name\": \"Clint Phlibin\",\n",
    "            \"age\": 11,\n",
    "            \"height\": 120\n",
    "    }]},\n",
    "    \"Grade_3\": {\n",
    "        \"class_roster\": [\n",
    "            {\n",
    "            \"title\": \"Teacher\",\n",
    "            \"name\": \"Aly Davies\",\n",
    "            \"age\": 53,\n",
    "            \"height\": 162},\n",
    "            {\n",
    "            \"title\": \"Student\",\n",
    "            \"name\": \"Alex Heer\",\n",
    "            \"age\": 13,\n",
    "            \"height\": 100},\n",
    "            {\n",
    "            \"title\": \"Student\",\n",
    "            \"name\": \"Eric Yost\",\n",
    "            \"age\": 12,\n",
    "            \"height\": 113}\n",
    "            ]\n",
    "}}}"
   ]
  },
  {
   "cell_type": "code",
   "execution_count": 16,
   "metadata": {},
   "outputs": [
    {
     "data": {
      "text/plain": [
       "{'class_roster': [{'title': 'Teacher',\n",
       "   'name': 'Sierra Vogt',\n",
       "   'age': 34,\n",
       "   'height': 182},\n",
       "  {'title': 'Student', 'name': 'Blake Cross', 'age': 12, 'height': 106},\n",
       "  {'title': 'Student', 'name': 'Clint Phlibin', 'age': 11, 'height': 120}]}"
      ]
     },
     "execution_count": 16,
     "metadata": {},
     "output_type": "execute_result"
    }
   ],
   "source": [
    "dictionary_of_dictionary['school_roster']['Grade_2']\n",
    "# dictionary_of_dictionary (dict) -> ['school_roster'] (dict) -> ['Grade_2'] (dict) -> ['class_roster'] (list) -> individual students (dict)"
   ]
  },
  {
   "cell_type": "code",
   "execution_count": 5,
   "metadata": {},
   "outputs": [
    {
     "data": {
      "text/plain": [
       "dict_values([{'in_session': 'yes', 'Grade_2': {'class_roster': [{'title': 'Teacher', 'name': 'Sierra Vogt', 'age': 34, 'height': 182}, {'title': 'Student', 'name': 'Blake Cross', 'age': 12, 'height': 106}, {'title': 'Student', 'name': 'Clint Phlibin', 'age': 11, 'height': 120}]}, 'Grade_3': {'class_roster': [{'title': 'Teacher', 'name': 'Aly Davies', 'age': 53, 'height': 162}, {'title': 'Student', 'name': 'Alex Heer', 'age': 13, 'height': 100}, {'title': 'Student', 'name': 'Eric Yost', 'age': 12, 'height': 113}]}}])"
      ]
     },
     "execution_count": 5,
     "metadata": {},
     "output_type": "execute_result"
    }
   ],
   "source": [
    "dictionary_of_dictionary.values()"
   ]
  },
  {
   "cell_type": "code",
   "execution_count": null,
   "metadata": {},
   "outputs": [],
   "source": []
  }
 ],
 "metadata": {
  "kernelspec": {
   "display_name": "Python 3",
   "language": "python",
   "name": "python3"
  },
  "language_info": {
   "codemirror_mode": {
    "name": "ipython",
    "version": 3
   },
   "file_extension": ".py",
   "mimetype": "text/x-python",
   "name": "python",
   "nbconvert_exporter": "python",
   "pygments_lexer": "ipython3",
   "version": "3.6.9"
  }
 },
 "nbformat": 4,
 "nbformat_minor": 2
}
