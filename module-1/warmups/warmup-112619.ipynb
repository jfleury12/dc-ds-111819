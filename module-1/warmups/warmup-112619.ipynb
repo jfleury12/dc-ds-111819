{
 "cells": [
  {
   "cell_type": "code",
   "execution_count": null,
   "metadata": {},
   "outputs": [],
   "source": [
    "# Write a function called cylinder_vol that calculates the volume of a cylinder. \n",
    "# The formula is the cylinders height multiplied by pi(3.14159) multiplied by the radius squared. \n",
    "# The function should take in 2 arguments, the height and radius. Do not forget to define pi within the functions scope. \n",
    "# Call the function for a cylinder with a height of 12 and a radius of 3.5"
   ]
  },
  {
   "cell_type": "code",
   "execution_count": 4,
   "metadata": {},
   "outputs": [
    {
     "data": {
      "text/plain": [
       "461.8141200776996"
      ]
     },
     "execution_count": 4,
     "metadata": {},
     "output_type": "execute_result"
    }
   ],
   "source": [
    "import numpy as np\n",
    "\n",
    "def cylinder_vol (height, radius):\n",
    "    pi = np.pi\n",
    "    return height*pi*radius**2\n",
    "\n",
    "cylinder_vol(12, 3.5)"
   ]
  },
  {
   "cell_type": "code",
   "execution_count": 5,
   "metadata": {},
   "outputs": [
    {
     "data": {
      "text/plain": [
       "461.8141200776996"
      ]
     },
     "execution_count": 5,
     "metadata": {},
     "output_type": "execute_result"
    }
   ],
   "source": [
    "# Jeff's solution\n",
    "\n",
    "def cylinder_vol(height,radius):\n",
    "    # importing just a sub-package, object, or function using 'from'\n",
    "    from math import pi  # here, just pi is imported as a variable. Not the entire module. \n",
    "    return pi*height*radius**2\n",
    "cylinder_vol(12,3.5)"
   ]
  },
  {
   "cell_type": "code",
   "execution_count": null,
   "metadata": {},
   "outputs": [],
   "source": []
  }
 ],
 "metadata": {
  "kernelspec": {
   "display_name": "Python 3",
   "language": "python",
   "name": "python3"
  },
  "language_info": {
   "codemirror_mode": {
    "name": "ipython",
    "version": 3
   },
   "file_extension": ".py",
   "mimetype": "text/x-python",
   "name": "python",
   "nbconvert_exporter": "python",
   "pygments_lexer": "ipython3",
   "version": "3.6.9"
  }
 },
 "nbformat": 4,
 "nbformat_minor": 2
}
