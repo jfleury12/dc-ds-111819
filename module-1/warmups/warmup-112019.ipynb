{
 "cells": [
  {
   "cell_type": "code",
   "execution_count": 5,
   "metadata": {},
   "outputs": [
    {
     "data": {
      "text/plain": [
       "['John', 'Kate', 'David', 'Megan', 'Joe']"
      ]
     },
     "execution_count": 5,
     "metadata": {},
     "output_type": "execute_result"
    }
   ],
   "source": [
    "# Warmup 11/20\n",
    "# 1. Create a list containing the names of 5 friends called friends.\n",
    "# 2. Create a second list that only contains the names of friends 2-4 from the list friends and name this new list friends2.\n",
    "\n",
    "# 1 \n",
    "friends = ['John', 'Kate', 'David', 'Megan', 'Joe']\n",
    "friends"
   ]
  },
  {
   "cell_type": "code",
   "execution_count": 9,
   "metadata": {},
   "outputs": [
    {
     "data": {
      "text/plain": [
       "['Kate', 'David', 'Megan']"
      ]
     },
     "execution_count": 9,
     "metadata": {},
     "output_type": "execute_result"
    }
   ],
   "source": [
    "# 2\n",
    "friends[1:4]\n",
    "friends2 = friends[1:4]\n",
    "friends2"
   ]
  }
 ],
 "metadata": {
  "kernelspec": {
   "display_name": "Python 3",
   "language": "python",
   "name": "python3"
  },
  "language_info": {
   "codemirror_mode": {
    "name": "ipython",
    "version": 3
   },
   "file_extension": ".py",
   "mimetype": "text/x-python",
   "name": "python",
   "nbconvert_exporter": "python",
   "pygments_lexer": "ipython3",
   "version": "3.6.9"
  }
 },
 "nbformat": 4,
 "nbformat_minor": 2
}
