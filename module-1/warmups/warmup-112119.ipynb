{
 "cells": [
  {
   "cell_type": "code",
   "execution_count": null,
   "metadata": {},
   "outputs": [],
   "source": [
    "# 1. Create a dictionary named people where each key is a first name, and each value contains a list of one float (Age) and one string (Family name) (at least 5 objects)\n",
    "# Example: {Charles: [23.4, \"Darwin\"], Alan: [42.5, \"Turing\"]}\n",
    "# 2. Delete one object from the dictionary named people"
   ]
  },
  {
   "cell_type": "code",
   "execution_count": 28,
   "metadata": {},
   "outputs": [
    {
     "data": {
      "text/plain": [
       "{'Justin': [27.5, 'Fleury'], 'Tom': [42.5, 'Brady'], 'Keanu': [55.2, 'Reeves']}"
      ]
     },
     "execution_count": 28,
     "metadata": {},
     "output_type": "execute_result"
    }
   ],
   "source": [
    "# 1\n",
    "people = dict(Justin = [27.5, 'Fleury'], Tom = [42.5, 'Brady'], Keanu = [55.2, 'Reeves'], Edward = [50.3, 'Norton'], Julianne = [58.1, 'Moore'])\n",
    "people"
   ]
  },
  {
   "cell_type": "code",
   "execution_count": 29,
   "metadata": {},
   "outputs": [
    {
     "data": {
      "text/plain": [
       "{'Justin': [27.5, 'Fleury'], 'Tom': [42.5, 'Brady'], 'Keanu': [55.2, 'Reeves']}"
      ]
     },
     "execution_count": 29,
     "metadata": {},
     "output_type": "execute_result"
    }
   ],
   "source": [
    "# alternatively\n",
    "people2 = {'Justin': [27.5, 'Fleury'], 'Tom': [42.5, 'Brady'], 'Keanu': [55.2, 'Reeves']}\n",
    "people2"
   ]
  },
  {
   "cell_type": "code",
   "execution_count": 24,
   "metadata": {},
   "outputs": [
    {
     "data": {
      "text/plain": [
       "{'Tom': [42.5, 'Brady'],\n",
       " 'Keanu': [55.2, 'Reeves'],\n",
       " 'Edward': [50.3, 'Norton'],\n",
       " 'Julianne': [58.1, 'Moore']}"
      ]
     },
     "execution_count": 24,
     "metadata": {},
     "output_type": "execute_result"
    }
   ],
   "source": [
    "# 2\n",
    "people.pop('Justin')\n",
    "people"
   ]
  }
 ],
 "metadata": {
  "kernelspec": {
   "display_name": "Python 3",
   "language": "python",
   "name": "python3"
  },
  "language_info": {
   "codemirror_mode": {
    "name": "ipython",
    "version": 3
   },
   "file_extension": ".py",
   "mimetype": "text/x-python",
   "name": "python",
   "nbconvert_exporter": "python",
   "pygments_lexer": "ipython3",
   "version": "3.6.9"
  }
 },
 "nbformat": 4,
 "nbformat_minor": 2
}
