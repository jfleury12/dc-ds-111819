{
 "cells": [
  {
   "cell_type": "code",
   "execution_count": null,
   "metadata": {},
   "outputs": [],
   "source": [
    "# Write a function reverse_the_strings that takes in one argument, a list of strings, \n",
    "# and will reverse the order of each string. \"Example\" becomes \"elpmaxE\""
   ]
  },
  {
   "cell_type": "code",
   "execution_count": null,
   "metadata": {},
   "outputs": [],
   "source": [
    "# for loop applying a reverse operation on each element"
   ]
  },
  {
   "cell_type": "code",
   "execution_count": 1,
   "metadata": {},
   "outputs": [],
   "source": [
    "def reverse_the_strings(string_list):\n",
    "    new_string_list = []\n",
    "    for string in string_list:\n",
    "        strlength = len(string)\n",
    "        new_string_list.append(string[strlength::-1]) # start at last element and iterate backwards by 1\n",
    "    return new_string_list"
   ]
  },
  {
   "cell_type": "code",
   "execution_count": 1,
   "metadata": {},
   "outputs": [],
   "source": [
    "# list comprehension with 'Pythonic' coding\n",
    "\n",
    "def reverse_the_strings(string_list):\n",
    "    reversed_string_list = [string[len(string)::-1] for string in string_list]\n",
    "    # start at last element and iterate backwards by 1\n",
    "    return reversed_string_list"
   ]
  },
  {
   "cell_type": "code",
   "execution_count": 2,
   "metadata": {},
   "outputs": [],
   "source": [
    "example = ['Example', 'Python', 'Justin']"
   ]
  },
  {
   "cell_type": "code",
   "execution_count": 3,
   "metadata": {},
   "outputs": [
    {
     "data": {
      "text/plain": [
       "['elpmaxE', 'nohtyP', 'nitsuJ']"
      ]
     },
     "execution_count": 3,
     "metadata": {},
     "output_type": "execute_result"
    }
   ],
   "source": [
    "reverse_the_strings(example)"
   ]
  },
  {
   "cell_type": "code",
   "execution_count": null,
   "metadata": {},
   "outputs": [],
   "source": []
  }
 ],
 "metadata": {
  "kernelspec": {
   "display_name": "Python 3",
   "language": "python",
   "name": "python3"
  },
  "language_info": {
   "codemirror_mode": {
    "name": "ipython",
    "version": 3
   },
   "file_extension": ".py",
   "mimetype": "text/x-python",
   "name": "python",
   "nbconvert_exporter": "python",
   "pygments_lexer": "ipython3",
   "version": "3.6.9"
  }
 },
 "nbformat": 4,
 "nbformat_minor": 2
}
