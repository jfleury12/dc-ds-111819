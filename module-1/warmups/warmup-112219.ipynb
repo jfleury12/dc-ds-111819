{
 "cells": [
  {
   "cell_type": "code",
   "execution_count": null,
   "metadata": {},
   "outputs": [],
   "source": [
    "# 1. Using the dictionary named people you used yesterday, replace the float number of one of your objects - we are changing a list entry inside a dictionary record! look at Darwin's new age Example: {Charles: [99.73, \"Darwin\"], Alan: [42.5, \"Turing\"]}\n",
    "# 2. Write a for loop that goes through all records in the dictionary, and assigns the float numbers into one merged list named ages (see ages) ages = [23.4, 22.9, 552.9]\n",
    "# BONUS: Calculate loop the median and mean of the ages list with a for loop"
   ]
  },
  {
   "cell_type": "code",
   "execution_count": 12,
   "metadata": {},
   "outputs": [],
   "source": [
    "people = dict(Justin = [27.5, 'Fleury'], Tom = [42.5, 'Brady'], Keanu = [55.2, 'Reeves'], Edward = [50.3, 'Norton'], Julianne = [58.1, 'Moore'])"
   ]
  },
  {
   "cell_type": "code",
   "execution_count": 13,
   "metadata": {},
   "outputs": [],
   "source": [
    "# 1\n",
    "people['Justin'][0] = 95.57"
   ]
  },
  {
   "cell_type": "code",
   "execution_count": 63,
   "metadata": {},
   "outputs": [
    {
     "data": {
      "text/plain": [
       "[95.57, 42.5, 55.2, 50.3, 58.1]"
      ]
     },
     "execution_count": 63,
     "metadata": {},
     "output_type": "execute_result"
    }
   ],
   "source": [
    "# 2\n",
    "ages = []\n",
    "for key, value in people.items():\n",
    "    ages.append(value[0])\n",
    "ages"
   ]
  },
  {
   "cell_type": "code",
   "execution_count": 65,
   "metadata": {},
   "outputs": [
    {
     "data": {
      "text/plain": [
       "[42.5, 50.3, 55.2, 58.1, 95.57, 99.9]"
      ]
     },
     "execution_count": 65,
     "metadata": {},
     "output_type": "execute_result"
    }
   ],
   "source": [
    "ages.append(99.9)\n",
    "sorted(ages)"
   ]
  },
  {
   "cell_type": "code",
   "execution_count": 74,
   "metadata": {},
   "outputs": [
    {
     "data": {
      "text/plain": [
       "[95.57, 42.5, 55.2, 50.3, 58.1, 99.9]"
      ]
     },
     "execution_count": 74,
     "metadata": {},
     "output_type": "execute_result"
    }
   ],
   "source": [
    "ages"
   ]
  },
  {
   "cell_type": "code",
   "execution_count": 75,
   "metadata": {},
   "outputs": [
    {
     "name": "stdout",
     "output_type": "stream",
     "text": [
      "55.2\n",
      "113.30000000000001\n",
      "66.92833333333333\n",
      "56.650000000000006\n"
     ]
    }
   ],
   "source": [
    "# Bonus\n",
    "import math\n",
    "\n",
    "mean_sum = 0\n",
    "median_sum = 0\n",
    "\n",
    "# sorting the ages in ascending order using the sorted() function\n",
    "sorted_ages = sorted(ages)\n",
    "\n",
    "for element, age in enumerate(sorted_ages):\n",
    "    # sum of all ages to be averaged at the end\n",
    "    mean_sum += age\n",
    "    \n",
    "    # calculate median for odd number of list elements\n",
    "    if len(sorted_ages)%2 != 0:\n",
    "        # if element is equal to middle position\n",
    "        print(element)\n",
    "        if element == (len(sorted_ages)-1)/2:\n",
    "            median = age\n",
    "            \n",
    "    # calculate median for even number of list elements\n",
    "    else:\n",
    "        if element == math.floor((len(sorted_ages)-1)/2) or element == math.ceil((len(sorted_ages)-1)/2):\n",
    "            median_sum += age\n",
    "            print(median_sum)\n",
    "        if element == len(sorted_ages)-1:\n",
    "            median = median_sum/2\n",
    "            \n",
    "mean = mean_sum/len(ages)\n",
    "\n",
    "print(mean)\n",
    "print(median)\n"
   ]
  },
  {
   "cell_type": "code",
   "execution_count": 33,
   "metadata": {},
   "outputs": [
    {
     "data": {
      "text/plain": [
       "[42.5, 50.3, 55.2, 58.1, 95.57]"
      ]
     },
     "execution_count": 33,
     "metadata": {},
     "output_type": "execute_result"
    }
   ],
   "source": [
    "# Other answers for bonus\n",
    "\n",
    "#Bonus\n",
    "mean = 0\n",
    "for _ in ages: mean += _\n",
    "mean = mean/len(ages)\n",
    "median = ages[len(ages)/2]\n",
    "if len(ages) %2 != 0:\n",
    "  median += ages[(len(ages)/2)+1]\n",
    "  median = median/2"
   ]
  },
  {
   "cell_type": "code",
   "execution_count": null,
   "metadata": {},
   "outputs": [],
   "source": [
    "#2\n",
    "ages = []\n",
    "sumOfAges = 0\n",
    "numPeople = len(people)\n",
    "for person in people:\n",
    "    age = people[person][0]\n",
    "    ages.append(people[person][0])\n",
    "    sumOfAges += age\n",
    "mean = sumOfAges/numPeople\n",
    "ages = sorted(ages)\n",
    "if numAges % 2 == 0:\n",
    "    median = (ages[numPeople//2] + ages[numPeople//2 - 1]) / 2\n",
    "else: \n",
    "    median = ages[numPeople//2]"
   ]
  },
  {
   "cell_type": "code",
   "execution_count": null,
   "metadata": {},
   "outputs": [],
   "source": [
    "# Bonus:\n",
    "age_sorted = sorted(ages)\n",
    "mean_age = 0\n",
    "median_age = 0\n",
    "even_odd = len(age_sorted) % 2 # 0 = even; 1 = odd\n",
    "for ind,age in enumerate(age_sorted):\n",
    "    mean_age += age\n",
    "    if even_odd:\n",
    "        if ind == round(len(age_sorted)/2):\n",
    "            median_age = age\n",
    "    else:\n",
    "        if ind == round(len(age_sorted)/2)-1:\n",
    "            median_age = age\n",
    "        elif ind == round(len(age_sorted)/2):\n",
    "            median_age += age\n",
    "            median_age /=2\n",
    "mean_age /= len(age_sorted)"
   ]
  }
 ],
 "metadata": {
  "kernelspec": {
   "display_name": "Python 3",
   "language": "python",
   "name": "python3"
  },
  "language_info": {
   "codemirror_mode": {
    "name": "ipython",
    "version": 3
   },
   "file_extension": ".py",
   "mimetype": "text/x-python",
   "name": "python",
   "nbconvert_exporter": "python",
   "pygments_lexer": "ipython3",
   "version": "3.6.9"
  }
 },
 "nbformat": 4,
 "nbformat_minor": 2
}
