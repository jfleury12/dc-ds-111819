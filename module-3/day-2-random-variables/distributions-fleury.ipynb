{
 "cells": [
  {
   "cell_type": "markdown",
   "metadata": {},
   "source": [
    "# Agenda\n",
    "\n",
    "- Random Variables Definition\n",
    "    \n",
    "- Discrete Random Variables\n",
    "\n",
    "- Probability Mass Functions and Cumulative Mass Functions for Discrete Random Variables\n",
    "\n",
    "- Continuous Random Variables\n",
    "\n",
    "- Probability Density Functions and Cumulative Density Functions for Continuous Random Variables.\n",
    "\n",
    "\n",
    "## Random Variables\n",
    "\n",
    "Informally: \"A variable whose values depend on outcomes of a random phenomenon\"\n",
    "\n",
    "More informally: \"A map from a random process's outcomes to numbers\"\"\n",
    "\n",
    "What about formally? Let's see!\n",
    "\n",
    "[Note you really don't want to do this but it's your choice: Read definition part from Wikipedia](https://en.wikipedia.org/wiki/Random_variable)\n"
   ]
  },
  {
   "cell_type": "markdown",
   "metadata": {},
   "source": [
    "### Examples\n",
    "\n",
    "Let's start with a traditional one:\n",
    "\n",
    "__Example:__\n",
    "Experiment: rolling two dice: \n",
    "\n",
    "$X$ -- (This is usually how we denote a random variable.) {Sum of numbers on the dice}\n",
    "\n",
    "Q: what are the possible values of $X$:\n",
    "\n",
    "__Example:__ \n",
    "\n",
    "Experiment: Tossing a coin \n",
    "\n",
    "$X = 15$ if it is Head and $X =-10$ if it is Tail.\n",
    "\n",
    "\n",
    "__Example:__ \n",
    "\n",
    "Experiment: Choosing a random person from Lafayatte Square\n",
    "\n",
    "$Y$: This person's exact height in meters. \n",
    "\n",
    "Q: What are the possible values that Y can take?\n",
    "\n",
    "__Example:__ \n",
    "\n",
    "Experiment: Pick a random point from the unit square.\n",
    "\n",
    "$Z$: The x-coordinate of the point\n",
    "\n",
    "Q: What are the possible values that Z can take?"
   ]
  },
  {
   "cell_type": "code",
   "execution_count": 1,
   "metadata": {},
   "outputs": [],
   "source": [
    "import itertools\n",
    "import numpy as np\n",
    "\n",
    "## let's create a deck of cards\n",
    "suits = ['diamonds', 'clubs', 'hearts', 'spades']\n",
    "\n",
    "values = ['A', '2', '3', '4', '5', '6', '7', '8', '9', '10', 'J', 'Q', 'K']\n",
    "\n",
    "cards = list(itertools.product(suits, values))\n",
    "\n",
    "## Find all possible 2 card combos"
   ]
  },
  {
   "cell_type": "code",
   "execution_count": 2,
   "metadata": {
    "collapsed": true
   },
   "outputs": [
    {
     "data": {
      "text/plain": [
       "[('diamonds', 'A'),\n",
       " ('diamonds', '2'),\n",
       " ('diamonds', '3'),\n",
       " ('diamonds', '4'),\n",
       " ('diamonds', '5'),\n",
       " ('diamonds', '6'),\n",
       " ('diamonds', '7'),\n",
       " ('diamonds', '8'),\n",
       " ('diamonds', '9'),\n",
       " ('diamonds', '10'),\n",
       " ('diamonds', 'J'),\n",
       " ('diamonds', 'Q'),\n",
       " ('diamonds', 'K'),\n",
       " ('clubs', 'A'),\n",
       " ('clubs', '2'),\n",
       " ('clubs', '3'),\n",
       " ('clubs', '4'),\n",
       " ('clubs', '5'),\n",
       " ('clubs', '6'),\n",
       " ('clubs', '7'),\n",
       " ('clubs', '8'),\n",
       " ('clubs', '9'),\n",
       " ('clubs', '10'),\n",
       " ('clubs', 'J'),\n",
       " ('clubs', 'Q'),\n",
       " ('clubs', 'K'),\n",
       " ('hearts', 'A'),\n",
       " ('hearts', '2'),\n",
       " ('hearts', '3'),\n",
       " ('hearts', '4'),\n",
       " ('hearts', '5'),\n",
       " ('hearts', '6'),\n",
       " ('hearts', '7'),\n",
       " ('hearts', '8'),\n",
       " ('hearts', '9'),\n",
       " ('hearts', '10'),\n",
       " ('hearts', 'J'),\n",
       " ('hearts', 'Q'),\n",
       " ('hearts', 'K'),\n",
       " ('spades', 'A'),\n",
       " ('spades', '2'),\n",
       " ('spades', '3'),\n",
       " ('spades', '4'),\n",
       " ('spades', '5'),\n",
       " ('spades', '6'),\n",
       " ('spades', '7'),\n",
       " ('spades', '8'),\n",
       " ('spades', '9'),\n",
       " ('spades', '10'),\n",
       " ('spades', 'J'),\n",
       " ('spades', 'Q'),\n",
       " ('spades', 'K')]"
      ]
     },
     "execution_count": 2,
     "metadata": {},
     "output_type": "execute_result"
    }
   ],
   "source": [
    "cards"
   ]
  },
  {
   "cell_type": "code",
   "execution_count": 3,
   "metadata": {},
   "outputs": [
    {
     "data": {
      "text/plain": [
       "1326"
      ]
     },
     "execution_count": 3,
     "metadata": {},
     "output_type": "execute_result"
    }
   ],
   "source": [
    "## Find all possible 2 card combos\n",
    "# '52 pick 2'\n",
    "combos = list(itertools.combinations(cards, 2))\n",
    "# \"Lazy Computation:\" returs a combinations object. displays when converted to list.\n",
    "# Saves time and memory. May not always need the entire set of results. combos[0]\n",
    "\n",
    "len(combos)"
   ]
  },
  {
   "cell_type": "code",
   "execution_count": 7,
   "metadata": {},
   "outputs": [
    {
     "data": {
      "text/plain": [
       "(('diamonds', 'A'), ('diamonds', '2'))"
      ]
     },
     "execution_count": 7,
     "metadata": {},
     "output_type": "execute_result"
    }
   ],
   "source": [
    "combos[0]"
   ]
  },
  {
   "cell_type": "markdown",
   "metadata": {},
   "source": [
    "Let's us define a function $X: S \\to \\mathbb{N}$ on this sample space such that when X(card1, card2) = card1 + card2. N refers to all natural numbers. The size of the sample space is the # of combos (1326).\n",
    "\n",
    "(J = 10, Q = 10, K=10, A = 1)\n",
    "\n",
    "Let's write this function in code:"
   ]
  },
  {
   "cell_type": "code",
   "execution_count": 8,
   "metadata": {},
   "outputs": [],
   "source": [
    "ROYALS = {'A': 1, 'J': 10, 'Q': 10, 'K': 10}\n",
    "# Global variables\n",
    "\n",
    "# Write a function that gives\n",
    "# us this random variable\n",
    "\n",
    "def random_variable(two_cards):\n",
    "    card1 = two_cards[0][1]\n",
    "    card2 = two_cards[1][1]\n",
    "    \n",
    "    if card1 in ROYALS.keys():\n",
    "        value1 = ROYALS[card1]\n",
    "        # safer to rename to 'value1' so you don't overwrite variables\n",
    "    else:\n",
    "        value1 = int(card1)\n",
    "        \n",
    "    if card2 in ROYALS.keys():\n",
    "        value2 = ROYALS[card2]\n",
    "        # safer to rename to 'value2' so you don't overwrite variables\n",
    "    else:\n",
    "        value2 = int(card1)\n",
    "        \n",
    "    return value1 + value2\n",
    "    "
   ]
  },
  {
   "cell_type": "code",
   "execution_count": 13,
   "metadata": {},
   "outputs": [
    {
     "name": "stdout",
     "output_type": "stream",
     "text": [
      "(('diamonds', '10'), ('clubs', 'J'))\n"
     ]
    },
    {
     "data": {
      "text/plain": [
       "20"
      ]
     },
     "execution_count": 13,
     "metadata": {},
     "output_type": "execute_result"
    }
   ],
   "source": [
    "card_index = np.random.choice(len(combos), 1)[0]\n",
    "# picks 1st element from randomized list of numbers 0-1325\n",
    "print(combos[card_index])\n",
    "# inputs randomized number into our list of all possible card combinations\n",
    "random_variable(combos[card_index])\n",
    "# run the function to determine sum of 2 cards"
   ]
  },
  {
   "cell_type": "markdown",
   "metadata": {},
   "source": [
    "### Discrete and Continuous Random Variables\n",
    "\n",
    "- Note that in the examples above we can count possible values for some random variables. These random variables are called __discrete random variables__.\n",
    "\n",
    "- In other cases, it is not possible to be able to count exact possible values of a random variables. These are called __continuous random variables__. We can also say that continuous random variables can take any value in a range.\n",
    "\n",
    "\n",
    "Q: Let's go back and decide which random variables are continuous and which ones are discrete.\n",
    "\n",
    "## Distributions\n",
    "\n",
    "Why do we study random variables?\n",
    "\n",
    "- Random variables most of the time more relevant to the problem we would like to solve. \n",
    "\n",
    "Q: What is the probability distribution of a random variable?\n",
    "\n",
    "A: It is a function from a random variables possible values to numbers again. \n",
    "\n",
    "- Exact definition of a distribution changes slightly depending on whether we are working with a discrete random variable or a continuous one. \n",
    "- In card example, card values of 1-10 on X-axis, and probabilities on the Y-axis\n",
    "\n",
    "### Probability Mass Function\n",
    "\n",
    "[For formal discussion](https://www.itl.nist.gov/div898/handbook/eda/section3/eda361.htm)\n",
    "\n",
    "The probability mass function is the function which describes the probability associated with the random variable x. This function is named p(x) or P(X=x) to avoid confusion. P(X=x) corresponds to the probability that the random variable x take the value X \n",
    "\n",
    "### Simulation"
   ]
  },
  {
   "cell_type": "code",
   "execution_count": 16,
   "metadata": {},
   "outputs": [
    {
     "ename": "ValueError",
     "evalue": "invalid literal for int() with base 10: 'A'",
     "output_type": "error",
     "traceback": [
      "\u001b[0;31m---------------------------------------------------------------------------\u001b[0m",
      "\u001b[0;31mValueError\u001b[0m                                Traceback (most recent call last)",
      "\u001b[0;32m<ipython-input-16-39cba0ab7267>\u001b[0m in \u001b[0;36m<module>\u001b[0;34m\u001b[0m\n\u001b[1;32m      5\u001b[0m \u001b[0;31m# of random variable for each value in the\u001b[0m\u001b[0;34m\u001b[0m\u001b[0;34m\u001b[0m\u001b[0;34m\u001b[0m\u001b[0m\n\u001b[1;32m      6\u001b[0m \u001b[0;31m# sample space\u001b[0m\u001b[0;34m\u001b[0m\u001b[0;34m\u001b[0m\u001b[0;34m\u001b[0m\u001b[0m\n\u001b[0;32m----> 7\u001b[0;31m \u001b[0mall_values\u001b[0m \u001b[0;34m=\u001b[0m \u001b[0;34m[\u001b[0m\u001b[0mrandom_variable\u001b[0m\u001b[0;34m(\u001b[0m\u001b[0ma\u001b[0m\u001b[0;34m)\u001b[0m \u001b[0;32mfor\u001b[0m \u001b[0ma\u001b[0m \u001b[0;32min\u001b[0m \u001b[0mcombos\u001b[0m\u001b[0;34m]\u001b[0m\u001b[0;34m\u001b[0m\u001b[0;34m\u001b[0m\u001b[0m\n\u001b[0m",
      "\u001b[0;32m<ipython-input-16-39cba0ab7267>\u001b[0m in \u001b[0;36m<listcomp>\u001b[0;34m(.0)\u001b[0m\n\u001b[1;32m      5\u001b[0m \u001b[0;31m# of random variable for each value in the\u001b[0m\u001b[0;34m\u001b[0m\u001b[0;34m\u001b[0m\u001b[0;34m\u001b[0m\u001b[0m\n\u001b[1;32m      6\u001b[0m \u001b[0;31m# sample space\u001b[0m\u001b[0;34m\u001b[0m\u001b[0;34m\u001b[0m\u001b[0;34m\u001b[0m\u001b[0m\n\u001b[0;32m----> 7\u001b[0;31m \u001b[0mall_values\u001b[0m \u001b[0;34m=\u001b[0m \u001b[0;34m[\u001b[0m\u001b[0mrandom_variable\u001b[0m\u001b[0;34m(\u001b[0m\u001b[0ma\u001b[0m\u001b[0;34m)\u001b[0m \u001b[0;32mfor\u001b[0m \u001b[0ma\u001b[0m \u001b[0;32min\u001b[0m \u001b[0mcombos\u001b[0m\u001b[0;34m]\u001b[0m\u001b[0;34m\u001b[0m\u001b[0;34m\u001b[0m\u001b[0m\n\u001b[0m",
      "\u001b[0;32m<ipython-input-8-3216d40735b2>\u001b[0m in \u001b[0;36mrandom_variable\u001b[0;34m(two_cards)\u001b[0m\n\u001b[1;32m     19\u001b[0m         \u001b[0;31m# safer to rename to 'value2' so you don't overwrite variables\u001b[0m\u001b[0;34m\u001b[0m\u001b[0;34m\u001b[0m\u001b[0;34m\u001b[0m\u001b[0m\n\u001b[1;32m     20\u001b[0m     \u001b[0;32melse\u001b[0m\u001b[0;34m:\u001b[0m\u001b[0;34m\u001b[0m\u001b[0;34m\u001b[0m\u001b[0m\n\u001b[0;32m---> 21\u001b[0;31m         \u001b[0mvalue2\u001b[0m \u001b[0;34m=\u001b[0m \u001b[0mint\u001b[0m\u001b[0;34m(\u001b[0m\u001b[0mcard1\u001b[0m\u001b[0;34m)\u001b[0m\u001b[0;34m\u001b[0m\u001b[0;34m\u001b[0m\u001b[0m\n\u001b[0m\u001b[1;32m     22\u001b[0m \u001b[0;34m\u001b[0m\u001b[0m\n\u001b[1;32m     23\u001b[0m     \u001b[0;32mreturn\u001b[0m \u001b[0mvalue1\u001b[0m \u001b[0;34m+\u001b[0m \u001b[0mvalue2\u001b[0m\u001b[0;34m\u001b[0m\u001b[0;34m\u001b[0m\u001b[0m\n",
      "\u001b[0;31mValueError\u001b[0m: invalid literal for int() with base 10: 'A'"
     ]
    }
   ],
   "source": [
    "# Let's find the probability mass function\n",
    "# for the previous random variable.\n",
    "\n",
    "# first create a list that contains the value\n",
    "# of random variable for each value in the\n",
    "# sample space\n",
    "all_values = [random_variable(a) for a in combos]"
   ]
  },
  {
   "cell_type": "code",
   "execution_count": 17,
   "metadata": {},
   "outputs": [
    {
     "ename": "NameError",
     "evalue": "name 'all_values' is not defined",
     "output_type": "error",
     "traceback": [
      "\u001b[0;31m---------------------------------------------------------------------------\u001b[0m",
      "\u001b[0;31mNameError\u001b[0m                                 Traceback (most recent call last)",
      "\u001b[0;32m<ipython-input-17-e27d3fd37daa>\u001b[0m in \u001b[0;36m<module>\u001b[0;34m\u001b[0m\n\u001b[1;32m      3\u001b[0m \u001b[0;32mimport\u001b[0m \u001b[0mmatplotlib\u001b[0m\u001b[0;34m.\u001b[0m\u001b[0mpyplot\u001b[0m \u001b[0;32mas\u001b[0m \u001b[0mplt\u001b[0m\u001b[0;34m\u001b[0m\u001b[0;34m\u001b[0m\u001b[0m\n\u001b[1;32m      4\u001b[0m \u001b[0mget_ipython\u001b[0m\u001b[0;34m(\u001b[0m\u001b[0;34m)\u001b[0m\u001b[0;34m.\u001b[0m\u001b[0mrun_line_magic\u001b[0m\u001b[0;34m(\u001b[0m\u001b[0;34m'matplotlib'\u001b[0m\u001b[0;34m,\u001b[0m \u001b[0;34m'inline'\u001b[0m\u001b[0;34m)\u001b[0m\u001b[0;34m\u001b[0m\u001b[0;34m\u001b[0m\u001b[0m\n\u001b[0;32m----> 5\u001b[0;31m n, bins, patches = plt.hist(x=all_values, bins=range(2,28), color='#0504aa',\n\u001b[0m\u001b[1;32m      6\u001b[0m                             alpha=0.5, rwidth= 0.8,align = 'left' )\n\u001b[1;32m      7\u001b[0m \u001b[0mplt\u001b[0m\u001b[0;34m.\u001b[0m\u001b[0mgrid\u001b[0m\u001b[0;34m(\u001b[0m\u001b[0maxis\u001b[0m\u001b[0;34m=\u001b[0m\u001b[0;34m'y'\u001b[0m\u001b[0;34m,\u001b[0m \u001b[0malpha\u001b[0m\u001b[0;34m=\u001b[0m\u001b[0;36m0.2\u001b[0m\u001b[0;34m)\u001b[0m\u001b[0;34m\u001b[0m\u001b[0;34m\u001b[0m\u001b[0m\n",
      "\u001b[0;31mNameError\u001b[0m: name 'all_values' is not defined"
     ]
    }
   ],
   "source": [
    "## plotting the frequencies\n",
    "\n",
    "import matplotlib.pyplot as plt\n",
    "%matplotlib inline\n",
    "n, bins, patches = plt.hist(x=all_values, bins=range(2,28), color='#0504aa',\n",
    "                            alpha=0.5, rwidth= 0.8,align = 'left' )\n",
    "plt.grid(axis='y', alpha=0.2)\n",
    "plt.xlabel('Value')\n",
    "plt.ylabel('Frequency')\n",
    "plt.xticks(range(2,28,2))\n",
    "plt.title('Frequencies of the values of random variables')\n",
    "maxfreq = n.max()\n",
    "# Set a clean upper y-axis limit.\n",
    "plt.ylim(ymax=np.ceil(maxfreq / 10) * 10 if maxfreq % 10 else maxfreq + 10)\n",
    "\n",
    "plt.show()"
   ]
  },
  {
   "cell_type": "code",
   "execution_count": 19,
   "metadata": {},
   "outputs": [
    {
     "ename": "NameError",
     "evalue": "name 'all_values' is not defined",
     "output_type": "error",
     "traceback": [
      "\u001b[0;31m---------------------------------------------------------------------------\u001b[0m",
      "\u001b[0;31mNameError\u001b[0m                                 Traceback (most recent call last)",
      "\u001b[0;32m<ipython-input-19-43eba0d84fc2>\u001b[0m in \u001b[0;36m<module>\u001b[0;34m\u001b[0m\n\u001b[1;32m      4\u001b[0m \u001b[0;34m\u001b[0m\u001b[0m\n\u001b[1;32m      5\u001b[0m \u001b[0mcounter\u001b[0m \u001b[0;34m=\u001b[0m \u001b[0mCounter\u001b[0m\u001b[0;34m(\u001b[0m\u001b[0;34m)\u001b[0m\u001b[0;34m\u001b[0m\u001b[0;34m\u001b[0m\u001b[0m\n\u001b[0;32m----> 6\u001b[0;31m \u001b[0;32mfor\u001b[0m \u001b[0ma\u001b[0m \u001b[0;32min\u001b[0m \u001b[0mall_values\u001b[0m\u001b[0;34m:\u001b[0m\u001b[0;34m\u001b[0m\u001b[0;34m\u001b[0m\u001b[0m\n\u001b[0m\u001b[1;32m      7\u001b[0m     \u001b[0mcounter\u001b[0m\u001b[0;34m[\u001b[0m\u001b[0ma\u001b[0m\u001b[0;34m]\u001b[0m \u001b[0;34m+=\u001b[0m \u001b[0;36m1\u001b[0m\u001b[0;34m\u001b[0m\u001b[0;34m\u001b[0m\u001b[0m\n",
      "\u001b[0;31mNameError\u001b[0m: name 'all_values' is not defined"
     ]
    }
   ],
   "source": [
    "## Try to convert frequencies to probabilities\n",
    "## Hint: Use collections.Counter\n",
    "from collections import Counter\n",
    "\n",
    "counter = Counter()\n",
    "for a in all_values:\n",
    "    counter[a] += 1"
   ]
  },
  {
   "cell_type": "code",
   "execution_count": 21,
   "metadata": {},
   "outputs": [
    {
     "name": "stdout",
     "output_type": "stream",
     "text": [
      "dict_keys([]) []\n"
     ]
    }
   ],
   "source": [
    "# Convert frequency to probability - divide each frequency value by total number of values\n",
    "pmf = []\n",
    "for key, val in counter.items():\n",
    "    pmf.append(round(val / len(all_values), 4))\n",
    "\n",
    "print(counter.keys(), pmf)"
   ]
  },
  {
   "cell_type": "code",
   "execution_count": 22,
   "metadata": {
    "scrolled": true
   },
   "outputs": [
    {
     "data": {
      "image/png": "[encoded data removed]",
      "text/plain": [
       "<Figure size 432x288 with 1 Axes>"
      ]
     },
     "metadata": {
      "needs_background": "light"
     },
     "output_type": "display_data"
    }
   ],
   "source": [
    "## we can plot the probability mass function\n",
    "plt.bar(counter.keys(),pmf)\n",
    "\n",
    "plt.xticks(range(1,21,2))\n",
    "\n",
    "plt.show()"
   ]
  },
  {
   "cell_type": "markdown",
   "metadata": {},
   "source": [
    "### Cumulative Mass Function\n",
    "\n",
    "\n",
    "The CDF is a function of $x$ just like a PMF or a PDF, where $x$ is any value that can possibly appear in a given distribution. To calculate the $CDF(x)$ for any value of $x$, we compute the proportion of values in the distribution less than or equal to $x$ as follows:\n",
    "\n",
    "$$\\large F(x) = P(X \\leq x)$$\n",
    "\n",
    "> The Cumulative Distribution Function, CDF, gives the probability that the variable $X$ is less than or equal to a certain possible value $x$. \n",
    "\n",
    "CMF always starts at 0 and ends at 1. P(X<=1) = 0, P(x<=20) = 1. Approaches one as we move to the right.\n"
   ]
  },
  {
   "cell_type": "code",
   "execution_count": 23,
   "metadata": {},
   "outputs": [
    {
     "ename": "NameError",
     "evalue": "name 'all_values' is not defined",
     "output_type": "error",
     "traceback": [
      "\u001b[0;31m---------------------------------------------------------------------------\u001b[0m",
      "\u001b[0;31mNameError\u001b[0m                                 Traceback (most recent call last)",
      "\u001b[0;32m<ipython-input-23-286fcc269fd7>\u001b[0m in \u001b[0;36m<module>\u001b[0;34m\u001b[0m\n\u001b[1;32m      1\u001b[0m \u001b[0;31m# plot cumulative mass function\u001b[0m\u001b[0;34m\u001b[0m\u001b[0;34m\u001b[0m\u001b[0;34m\u001b[0m\u001b[0m\n\u001b[1;32m      2\u001b[0m \u001b[0;34m\u001b[0m\u001b[0m\n\u001b[0;32m----> 3\u001b[0;31m \u001b[0mx\u001b[0m \u001b[0;34m=\u001b[0m \u001b[0mnp\u001b[0m\u001b[0;34m.\u001b[0m\u001b[0munique\u001b[0m\u001b[0;34m(\u001b[0m\u001b[0mall_values\u001b[0m\u001b[0;34m,\u001b[0m \u001b[0mreturn_counts\u001b[0m\u001b[0;34m=\u001b[0m\u001b[0;32mTrue\u001b[0m\u001b[0;34m)\u001b[0m\u001b[0;34m[\u001b[0m\u001b[0;36m0\u001b[0m\u001b[0;34m]\u001b[0m\u001b[0;34m\u001b[0m\u001b[0;34m\u001b[0m\u001b[0m\n\u001b[0m\u001b[1;32m      4\u001b[0m \u001b[0my\u001b[0m \u001b[0;34m=\u001b[0m \u001b[0mnp\u001b[0m\u001b[0;34m.\u001b[0m\u001b[0mcumsum\u001b[0m\u001b[0;34m(\u001b[0m\u001b[0mnp\u001b[0m\u001b[0;34m.\u001b[0m\u001b[0munique\u001b[0m\u001b[0;34m(\u001b[0m\u001b[0mall_values\u001b[0m\u001b[0;34m,\u001b[0m \u001b[0mreturn_counts\u001b[0m\u001b[0;34m=\u001b[0m\u001b[0;32mTrue\u001b[0m\u001b[0;34m)\u001b[0m\u001b[0;34m[\u001b[0m\u001b[0;36m1\u001b[0m\u001b[0;34m]\u001b[0m\u001b[0;34m)\u001b[0m\u001b[0;34m/\u001b[0m\u001b[0mlen\u001b[0m\u001b[0;34m(\u001b[0m\u001b[0mall_values\u001b[0m\u001b[0;34m)\u001b[0m\u001b[0;34m\u001b[0m\u001b[0;34m\u001b[0m\u001b[0m\n\u001b[1;32m      5\u001b[0m \u001b[0mplt\u001b[0m\u001b[0;34m.\u001b[0m\u001b[0mplot\u001b[0m\u001b[0;34m(\u001b[0m\u001b[0mx\u001b[0m\u001b[0;34m,\u001b[0m \u001b[0my\u001b[0m\u001b[0;34m,\u001b[0m \u001b[0mmarker\u001b[0m\u001b[0;34m=\u001b[0m\u001b[0;34m'.'\u001b[0m\u001b[0;34m,\u001b[0m \u001b[0mlinestyle\u001b[0m\u001b[0;34m=\u001b[0m\u001b[0;34m'none'\u001b[0m\u001b[0;34m)\u001b[0m\u001b[0;34m\u001b[0m\u001b[0;34m\u001b[0m\u001b[0m\n",
      "\u001b[0;31mNameError\u001b[0m: name 'all_values' is not defined"
     ]
    }
   ],
   "source": [
    "# plot cumulative mass function\n",
    "\n",
    "x = np.unique(all_values, return_counts=True)[0]\n",
    "y = np.cumsum(np.unique(all_values, return_counts=True)[1])/len(all_values)\n",
    "plt.plot(x, y, marker='.', linestyle='none')\n",
    "plt.show()"
   ]
  },
  {
   "cell_type": "markdown",
   "metadata": {},
   "source": [
    "### Further Discussions\n",
    "\n",
    "\n",
    "- Please read the corresponding material form learn.co. Especially the definitions of expected values and variance.\n",
    "\n",
    "- Note that one of the most important discrete distribution is Bernoulli and Binomial distributions. We will discuss these in more details but make sure that you read the corresponding material in learn.co."
   ]
  },
  {
   "cell_type": "markdown",
   "metadata": {},
   "source": [
    "## Probability Density Functions\n",
    "\n",
    "- First observation: For a cont. random variable the probability of getting an exact value is always zero. (Bummer!!)\n",
    "\n",
    "- In that sense, instead of exact probabilities we will talk about density of the random variables. \n",
    "\n",
    "\n",
    "- A Probability Density Function (PDF) helps identify the regions in the distribution where observations are more likely to occur, in other words, where the observation occurrence is more dense.\n",
    "\n",
    "\n",
    "<img src=\"img/probability_for_continuous_rv.png\" width=\"650\">\n",
    "\n",
    "- In this case, probability is found by the following formula: \n",
    "\n",
    "$$\\large P(82 \\leq X \\leq 85) = \\int_{82}^{85} f_x(x) dx \\geq 0 $$\n",
    "\n",
    "- Let's consider the example where the random variable is the exact measure of height of a randomly chosen person from Lafayatte Park.\n",
    "\n",
    "[Let's use a function to simulate this situation](https://learn.co/tracks/data-science-career-v2/module-3-probability-sampling-and-ab-testing/section-18-statistical-distributions/the-probability-density-function)\n"
   ]
  },
  {
   "cell_type": "code",
   "execution_count": null,
   "metadata": {},
   "outputs": [],
   "source": []
  }
 ],
 "metadata": {
  "kernelspec": {
   "display_name": "Python 3",
   "language": "python",
   "name": "python3"
  },
  "language_info": {
   "codemirror_mode": {
    "name": "ipython",
    "version": 3
   },
   "file_extension": ".py",
   "mimetype": "text/x-python",
   "name": "python",
   "nbconvert_exporter": "python",
   "pygments_lexer": "ipython3",
   "version": "3.6.9"
  },
  "toc": {
   "base_numbering": 1,
   "nav_menu": {},
   "number_sections": true,
   "sideBar": true,
   "skip_h1_title": false,
   "title_cell": "Table of Contents",
   "title_sidebar": "Contents",
   "toc_cell": false,
   "toc_position": {
    "height": "calc(100% - 180px)",
    "left": "10px",
    "top": "150px",
    "width": "165px"
   },
   "toc_section_display": true,
   "toc_window_display": false
  }
 },
 "nbformat": 4,
 "nbformat_minor": 2
}
