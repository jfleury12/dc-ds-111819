{
 "cells": [
  {
   "cell_type": "markdown",
   "metadata": {},
   "source": [
    "On Monday, we created variables called x_norm and means. We will be working with the same variables today. (Recall that we set the seed to 2019)\n",
    "\n",
    "Get bootstrap samples from x_norm and store the means of all these samples in the variable boot_means.\n",
    "\n",
    "Plot histogram overlays of means and boot_means. What do you observe?\n",
    "\n",
    "Find the mean and standard deviation of both means and boot_means. What does this exercise tell you about the bootstrap samples?"
   ]
  },
  {
   "cell_type": "code",
   "execution_count": 4,
   "metadata": {},
   "outputs": [],
   "source": [
    "import numpy as np\n",
    "import scipy.stats\n",
    "import matplotlib.pyplot as plt\n",
    "import seaborn as sns\n",
    "from sklearn.utils import resample\n",
    "\n",
    "%matplotlib inline\n",
    "np.random.seed(2019)"
   ]
  },
  {
   "cell_type": "code",
   "execution_count": 2,
   "metadata": {},
   "outputs": [],
   "source": [
    "x_norm = np.random.normal(10,1.5,1000)\n",
    "means = np.zeros(1000)\n",
    "\n",
    "for n in range(1000):\n",
    "    means[n] = np.random.normal(10,1.5,1000).mean()"
   ]
  },
  {
   "cell_type": "code",
   "execution_count": 8,
   "metadata": {},
   "outputs": [],
   "source": [
    "boot_means = []\n",
    "for i in range(1000):\n",
    "    bootstrap = resample(x_norm, \n",
    "                      replace = True,\n",
    "                      n_samples = 100) \n",
    "    boot_means.append(np.mean(bootstrap))"
   ]
  },
  {
   "cell_type": "code",
   "execution_count": 18,
   "metadata": {},
   "outputs": [
    {
     "data": {
      "text/plain": [
       "<matplotlib.axes._subplots.AxesSubplot at 0x1a22dd3b38>"
      ]
     },
     "execution_count": 18,
     "metadata": {},
     "output_type": "execute_result"
    },
    {
     "data": {
      "image/png": "[encoded data removed]",
      "text/plain": [
       "<Figure size 432x288 with 1 Axes>"
      ]
     },
     "metadata": {
      "needs_background": "light"
     },
     "output_type": "display_data"
    }
   ],
   "source": [
    "sns.distplot(means)\n",
    "sns.distplot(boot_means)\n",
    "# tighter distribution for 'means'"
   ]
  },
  {
   "cell_type": "code",
   "execution_count": 19,
   "metadata": {},
   "outputs": [
    {
     "name": "stdout",
     "output_type": "stream",
     "text": [
      "means: 10.000914626897982,0.04705809073710851\n",
      "boot_means: 10.011865355786878,0.1543187068570003\n"
     ]
    }
   ],
   "source": [
    "print(f'means: {np.mean(means)},{np.std(means)}')\n",
    "print(f'boot_means: {np.mean(boot_means)},{np.std(boot_means)}')\n",
    "# bootstrap samples have larger std deviation"
   ]
  },
  {
   "cell_type": "code",
   "execution_count": null,
   "metadata": {},
   "outputs": [],
   "source": []
  }
 ],
 "metadata": {
  "kernelspec": {
   "display_name": "Python 3",
   "language": "python",
   "name": "python3"
  },
  "language_info": {
   "codemirror_mode": {
    "name": "ipython",
    "version": 3
   },
   "file_extension": ".py",
   "mimetype": "text/x-python",
   "name": "python",
   "nbconvert_exporter": "python",
   "pygments_lexer": "ipython3",
   "version": "3.6.9"
  }
 },
 "nbformat": 4,
 "nbformat_minor": 2
}
