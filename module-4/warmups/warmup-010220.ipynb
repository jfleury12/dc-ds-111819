{
 "cells": [
  {
   "cell_type": "markdown",
   "metadata": {},
   "source": [
    "- Given the below head of a table called salesman, write a SQL statement that counts the number of salesmen for whom a city is specified. \n",
    "- Note that there may be spaces or no spaces in the city column if no city is specified. Might be null or spaces."
   ]
  },
  {
   "cell_type": "code",
   "execution_count": 17,
   "metadata": {},
   "outputs": [
    {
     "name": "stdout",
     "output_type": "stream",
     "text": [
      "COUNT(DISTINCT salesman_id) AS SalesmanCount \n",
      " FROM salesman \n",
      " WHERE City IS NOT NULL \n",
      " AND ISNULL(NULLIF(TRIM(City),'')) = TRUE \n",
      " GROUP BY City\n"
     ]
    }
   ],
   "source": [
    "print(\"COUNT(DISTINCT salesman_id) AS SalesmanCount \\n FROM salesman \\n WHERE City IS NOT NULL \\n AND ISNULL(NULLIF(TRIM(City),'')) = TRUE \\n GROUP BY City\")"
   ]
  },
  {
   "cell_type": "code",
   "execution_count": null,
   "metadata": {},
   "outputs": [],
   "source": []
  }
 ],
 "metadata": {
  "kernelspec": {
   "display_name": "Python 3",
   "language": "python",
   "name": "python3"
  },
  "language_info": {
   "codemirror_mode": {
    "name": "ipython",
    "version": 3
   },
   "file_extension": ".py",
   "mimetype": "text/x-python",
   "name": "python",
   "nbconvert_exporter": "python",
   "pygments_lexer": "ipython3",
   "version": "3.6.9"
  }
 },
 "nbformat": 4,
 "nbformat_minor": 2
}
